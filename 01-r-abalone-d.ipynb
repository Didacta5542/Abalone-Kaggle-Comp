{
 "cells": [
  {
   "cell_type": "code",
   "execution_count": 1,
   "id": "deaecfd6",
   "metadata": {
    "execution": {
     "iopub.execute_input": "2024-05-25T05:30:27.631675Z",
     "iopub.status.busy": "2024-05-25T05:30:27.630945Z",
     "iopub.status.idle": "2024-05-25T05:30:30.756280Z",
     "shell.execute_reply": "2024-05-25T05:30:30.755302Z"
    },
    "papermill": {
     "duration": 3.142376,
     "end_time": "2024-05-25T05:30:30.759138",
     "exception": false,
     "start_time": "2024-05-25T05:30:27.616762",
     "status": "completed"
    },
    "tags": []
   },
   "outputs": [],
   "source": [
    "import os\n",
    "import numpy as np \n",
    "import pandas as pd \n",
    "import seaborn as sns\n",
    "import matplotlib.pyplot as plt\n",
    "\n",
    "from sklearn.model_selection import train_test_split\n",
    "from sklearn.preprocessing import StandardScaler\n",
    "from sklearn.preprocessing import OneHotEncoder\n",
    "from sklearn.pipeline import Pipeline\n",
    "from sklearn.compose import ColumnTransformer\n",
    "\n",
    "from sklearn.ensemble import RandomForestRegressor\n",
    "from xgboost import XGBRegressor\n",
    "from sklearn.metrics import mean_squared_log_error"
   ]
  },
  {
   "cell_type": "code",
   "execution_count": 2,
   "id": "c8e874f7",
   "metadata": {
    "execution": {
     "iopub.execute_input": "2024-05-25T05:30:30.785504Z",
     "iopub.status.busy": "2024-05-25T05:30:30.784651Z",
     "iopub.status.idle": "2024-05-25T05:30:31.058794Z",
     "shell.execute_reply": "2024-05-25T05:30:31.057422Z"
    },
    "papermill": {
     "duration": 0.289991,
     "end_time": "2024-05-25T05:30:31.061322",
     "exception": false,
     "start_time": "2024-05-25T05:30:30.771331",
     "status": "completed"
    },
    "tags": []
   },
   "outputs": [
    {
     "name": "stdout",
     "output_type": "stream",
     "text": [
      "sample_submission.csv\n",
      "train.csv\n",
      "test.csv\n"
     ]
    }
   ],
   "source": [
    "files = []\n",
    "for dirname, _, filenames in os.walk('/kaggle/input/playground-series-s4e4'):\n",
    "    for filename in filenames:\n",
    "        print(filename)\n",
    "        files.append(pd.read_csv(os.path.join(dirname,filename)))"
   ]
  },
  {
   "cell_type": "code",
   "execution_count": 3,
   "id": "c765526c",
   "metadata": {
    "execution": {
     "iopub.execute_input": "2024-05-25T05:30:31.091596Z",
     "iopub.status.busy": "2024-05-25T05:30:31.090574Z",
     "iopub.status.idle": "2024-05-25T05:30:31.123029Z",
     "shell.execute_reply": "2024-05-25T05:30:31.121615Z"
    },
    "papermill": {
     "duration": 0.052044,
     "end_time": "2024-05-25T05:30:31.126731",
     "exception": false,
     "start_time": "2024-05-25T05:30:31.074687",
     "status": "completed"
    },
    "tags": []
   },
   "outputs": [
    {
     "data": {
      "text/html": [
       "<div>\n",
       "<style scoped>\n",
       "    .dataframe tbody tr th:only-of-type {\n",
       "        vertical-align: middle;\n",
       "    }\n",
       "\n",
       "    .dataframe tbody tr th {\n",
       "        vertical-align: top;\n",
       "    }\n",
       "\n",
       "    .dataframe thead th {\n",
       "        text-align: right;\n",
       "    }\n",
       "</style>\n",
       "<table border=\"1\" class=\"dataframe\">\n",
       "  <thead>\n",
       "    <tr style=\"text-align: right;\">\n",
       "      <th></th>\n",
       "      <th>id</th>\n",
       "      <th>Sex</th>\n",
       "      <th>Length</th>\n",
       "      <th>Diameter</th>\n",
       "      <th>Height</th>\n",
       "      <th>Whole weight</th>\n",
       "      <th>Whole weight.1</th>\n",
       "      <th>Whole weight.2</th>\n",
       "      <th>Shell weight</th>\n",
       "      <th>Rings</th>\n",
       "    </tr>\n",
       "  </thead>\n",
       "  <tbody>\n",
       "    <tr>\n",
       "      <th>0</th>\n",
       "      <td>0</td>\n",
       "      <td>F</td>\n",
       "      <td>0.550</td>\n",
       "      <td>0.430</td>\n",
       "      <td>0.150</td>\n",
       "      <td>0.7715</td>\n",
       "      <td>0.3285</td>\n",
       "      <td>0.1465</td>\n",
       "      <td>0.2400</td>\n",
       "      <td>11</td>\n",
       "    </tr>\n",
       "    <tr>\n",
       "      <th>1</th>\n",
       "      <td>1</td>\n",
       "      <td>F</td>\n",
       "      <td>0.630</td>\n",
       "      <td>0.490</td>\n",
       "      <td>0.145</td>\n",
       "      <td>1.1300</td>\n",
       "      <td>0.4580</td>\n",
       "      <td>0.2765</td>\n",
       "      <td>0.3200</td>\n",
       "      <td>11</td>\n",
       "    </tr>\n",
       "    <tr>\n",
       "      <th>2</th>\n",
       "      <td>2</td>\n",
       "      <td>I</td>\n",
       "      <td>0.160</td>\n",
       "      <td>0.110</td>\n",
       "      <td>0.025</td>\n",
       "      <td>0.0210</td>\n",
       "      <td>0.0055</td>\n",
       "      <td>0.0030</td>\n",
       "      <td>0.0050</td>\n",
       "      <td>6</td>\n",
       "    </tr>\n",
       "    <tr>\n",
       "      <th>3</th>\n",
       "      <td>3</td>\n",
       "      <td>M</td>\n",
       "      <td>0.595</td>\n",
       "      <td>0.475</td>\n",
       "      <td>0.150</td>\n",
       "      <td>0.9145</td>\n",
       "      <td>0.3755</td>\n",
       "      <td>0.2055</td>\n",
       "      <td>0.2500</td>\n",
       "      <td>10</td>\n",
       "    </tr>\n",
       "    <tr>\n",
       "      <th>4</th>\n",
       "      <td>4</td>\n",
       "      <td>I</td>\n",
       "      <td>0.555</td>\n",
       "      <td>0.425</td>\n",
       "      <td>0.130</td>\n",
       "      <td>0.7820</td>\n",
       "      <td>0.3695</td>\n",
       "      <td>0.1600</td>\n",
       "      <td>0.1975</td>\n",
       "      <td>9</td>\n",
       "    </tr>\n",
       "  </tbody>\n",
       "</table>\n",
       "</div>"
      ],
      "text/plain": [
       "   id Sex  Length  Diameter  Height  Whole weight  Whole weight.1  \\\n",
       "0   0   F   0.550     0.430   0.150        0.7715          0.3285   \n",
       "1   1   F   0.630     0.490   0.145        1.1300          0.4580   \n",
       "2   2   I   0.160     0.110   0.025        0.0210          0.0055   \n",
       "3   3   M   0.595     0.475   0.150        0.9145          0.3755   \n",
       "4   4   I   0.555     0.425   0.130        0.7820          0.3695   \n",
       "\n",
       "   Whole weight.2  Shell weight  Rings  \n",
       "0          0.1465        0.2400     11  \n",
       "1          0.2765        0.3200     11  \n",
       "2          0.0030        0.0050      6  \n",
       "3          0.2055        0.2500     10  \n",
       "4          0.1600        0.1975      9  "
      ]
     },
     "execution_count": 3,
     "metadata": {},
     "output_type": "execute_result"
    }
   ],
   "source": [
    "df_train = files[1]\n",
    "df_train.head()"
   ]
  },
  {
   "cell_type": "code",
   "execution_count": 4,
   "id": "867b5d4a",
   "metadata": {
    "execution": {
     "iopub.execute_input": "2024-05-25T05:30:31.167498Z",
     "iopub.status.busy": "2024-05-25T05:30:31.166576Z",
     "iopub.status.idle": "2024-05-25T05:30:31.187769Z",
     "shell.execute_reply": "2024-05-25T05:30:31.186589Z"
    },
    "papermill": {
     "duration": 0.043477,
     "end_time": "2024-05-25T05:30:31.190060",
     "exception": false,
     "start_time": "2024-05-25T05:30:31.146583",
     "status": "completed"
    },
    "tags": []
   },
   "outputs": [
    {
     "data": {
      "text/html": [
       "<div>\n",
       "<style scoped>\n",
       "    .dataframe tbody tr th:only-of-type {\n",
       "        vertical-align: middle;\n",
       "    }\n",
       "\n",
       "    .dataframe tbody tr th {\n",
       "        vertical-align: top;\n",
       "    }\n",
       "\n",
       "    .dataframe thead th {\n",
       "        text-align: right;\n",
       "    }\n",
       "</style>\n",
       "<table border=\"1\" class=\"dataframe\">\n",
       "  <thead>\n",
       "    <tr style=\"text-align: right;\">\n",
       "      <th></th>\n",
       "      <th>id</th>\n",
       "      <th>Sex</th>\n",
       "      <th>Length</th>\n",
       "      <th>Diameter</th>\n",
       "      <th>Height</th>\n",
       "      <th>Whole weight</th>\n",
       "      <th>Whole weight.1</th>\n",
       "      <th>Whole weight.2</th>\n",
       "      <th>Shell weight</th>\n",
       "    </tr>\n",
       "  </thead>\n",
       "  <tbody>\n",
       "    <tr>\n",
       "      <th>0</th>\n",
       "      <td>90615</td>\n",
       "      <td>M</td>\n",
       "      <td>0.645</td>\n",
       "      <td>0.475</td>\n",
       "      <td>0.155</td>\n",
       "      <td>1.2380</td>\n",
       "      <td>0.6185</td>\n",
       "      <td>0.3125</td>\n",
       "      <td>0.3005</td>\n",
       "    </tr>\n",
       "    <tr>\n",
       "      <th>1</th>\n",
       "      <td>90616</td>\n",
       "      <td>M</td>\n",
       "      <td>0.580</td>\n",
       "      <td>0.460</td>\n",
       "      <td>0.160</td>\n",
       "      <td>0.9830</td>\n",
       "      <td>0.4785</td>\n",
       "      <td>0.2195</td>\n",
       "      <td>0.2750</td>\n",
       "    </tr>\n",
       "    <tr>\n",
       "      <th>2</th>\n",
       "      <td>90617</td>\n",
       "      <td>M</td>\n",
       "      <td>0.560</td>\n",
       "      <td>0.420</td>\n",
       "      <td>0.140</td>\n",
       "      <td>0.8395</td>\n",
       "      <td>0.3525</td>\n",
       "      <td>0.1845</td>\n",
       "      <td>0.2405</td>\n",
       "    </tr>\n",
       "    <tr>\n",
       "      <th>3</th>\n",
       "      <td>90618</td>\n",
       "      <td>M</td>\n",
       "      <td>0.570</td>\n",
       "      <td>0.490</td>\n",
       "      <td>0.145</td>\n",
       "      <td>0.8740</td>\n",
       "      <td>0.3525</td>\n",
       "      <td>0.1865</td>\n",
       "      <td>0.2350</td>\n",
       "    </tr>\n",
       "    <tr>\n",
       "      <th>4</th>\n",
       "      <td>90619</td>\n",
       "      <td>I</td>\n",
       "      <td>0.415</td>\n",
       "      <td>0.325</td>\n",
       "      <td>0.110</td>\n",
       "      <td>0.3580</td>\n",
       "      <td>0.1575</td>\n",
       "      <td>0.0670</td>\n",
       "      <td>0.1050</td>\n",
       "    </tr>\n",
       "  </tbody>\n",
       "</table>\n",
       "</div>"
      ],
      "text/plain": [
       "      id Sex  Length  Diameter  Height  Whole weight  Whole weight.1  \\\n",
       "0  90615   M   0.645     0.475   0.155        1.2380          0.6185   \n",
       "1  90616   M   0.580     0.460   0.160        0.9830          0.4785   \n",
       "2  90617   M   0.560     0.420   0.140        0.8395          0.3525   \n",
       "3  90618   M   0.570     0.490   0.145        0.8740          0.3525   \n",
       "4  90619   I   0.415     0.325   0.110        0.3580          0.1575   \n",
       "\n",
       "   Whole weight.2  Shell weight  \n",
       "0          0.3125        0.3005  \n",
       "1          0.2195        0.2750  \n",
       "2          0.1845        0.2405  \n",
       "3          0.1865        0.2350  \n",
       "4          0.0670        0.1050  "
      ]
     },
     "execution_count": 4,
     "metadata": {},
     "output_type": "execute_result"
    }
   ],
   "source": [
    "df_test = files[2]\n",
    "df_test.head()"
   ]
  },
  {
   "cell_type": "code",
   "execution_count": 5,
   "id": "9788d338",
   "metadata": {
    "execution": {
     "iopub.execute_input": "2024-05-25T05:30:31.218410Z",
     "iopub.status.busy": "2024-05-25T05:30:31.217501Z",
     "iopub.status.idle": "2024-05-25T05:30:31.244586Z",
     "shell.execute_reply": "2024-05-25T05:30:31.243309Z"
    },
    "papermill": {
     "duration": 0.043803,
     "end_time": "2024-05-25T05:30:31.247001",
     "exception": false,
     "start_time": "2024-05-25T05:30:31.203198",
     "status": "completed"
    },
    "tags": []
   },
   "outputs": [
    {
     "data": {
      "text/html": [
       "<div>\n",
       "<style scoped>\n",
       "    .dataframe tbody tr th:only-of-type {\n",
       "        vertical-align: middle;\n",
       "    }\n",
       "\n",
       "    .dataframe tbody tr th {\n",
       "        vertical-align: top;\n",
       "    }\n",
       "\n",
       "    .dataframe thead th {\n",
       "        text-align: right;\n",
       "    }\n",
       "</style>\n",
       "<table border=\"1\" class=\"dataframe\">\n",
       "  <thead>\n",
       "    <tr style=\"text-align: right;\">\n",
       "      <th></th>\n",
       "      <th>Sex</th>\n",
       "      <th>Length</th>\n",
       "      <th>Diameter</th>\n",
       "      <th>Height</th>\n",
       "      <th>Whole weight</th>\n",
       "      <th>Whole weight.1</th>\n",
       "      <th>Whole weight.2</th>\n",
       "      <th>Shell weight</th>\n",
       "    </tr>\n",
       "  </thead>\n",
       "  <tbody>\n",
       "    <tr>\n",
       "      <th>0</th>\n",
       "      <td>M</td>\n",
       "      <td>0.645</td>\n",
       "      <td>0.475</td>\n",
       "      <td>0.155</td>\n",
       "      <td>1.2380</td>\n",
       "      <td>0.6185</td>\n",
       "      <td>0.3125</td>\n",
       "      <td>0.3005</td>\n",
       "    </tr>\n",
       "    <tr>\n",
       "      <th>1</th>\n",
       "      <td>M</td>\n",
       "      <td>0.580</td>\n",
       "      <td>0.460</td>\n",
       "      <td>0.160</td>\n",
       "      <td>0.9830</td>\n",
       "      <td>0.4785</td>\n",
       "      <td>0.2195</td>\n",
       "      <td>0.2750</td>\n",
       "    </tr>\n",
       "    <tr>\n",
       "      <th>2</th>\n",
       "      <td>M</td>\n",
       "      <td>0.560</td>\n",
       "      <td>0.420</td>\n",
       "      <td>0.140</td>\n",
       "      <td>0.8395</td>\n",
       "      <td>0.3525</td>\n",
       "      <td>0.1845</td>\n",
       "      <td>0.2405</td>\n",
       "    </tr>\n",
       "    <tr>\n",
       "      <th>3</th>\n",
       "      <td>M</td>\n",
       "      <td>0.570</td>\n",
       "      <td>0.490</td>\n",
       "      <td>0.145</td>\n",
       "      <td>0.8740</td>\n",
       "      <td>0.3525</td>\n",
       "      <td>0.1865</td>\n",
       "      <td>0.2350</td>\n",
       "    </tr>\n",
       "    <tr>\n",
       "      <th>4</th>\n",
       "      <td>I</td>\n",
       "      <td>0.415</td>\n",
       "      <td>0.325</td>\n",
       "      <td>0.110</td>\n",
       "      <td>0.3580</td>\n",
       "      <td>0.1575</td>\n",
       "      <td>0.0670</td>\n",
       "      <td>0.1050</td>\n",
       "    </tr>\n",
       "  </tbody>\n",
       "</table>\n",
       "</div>"
      ],
      "text/plain": [
       "  Sex  Length  Diameter  Height  Whole weight  Whole weight.1  Whole weight.2  \\\n",
       "0   M   0.645     0.475   0.155        1.2380          0.6185          0.3125   \n",
       "1   M   0.580     0.460   0.160        0.9830          0.4785          0.2195   \n",
       "2   M   0.560     0.420   0.140        0.8395          0.3525          0.1845   \n",
       "3   M   0.570     0.490   0.145        0.8740          0.3525          0.1865   \n",
       "4   I   0.415     0.325   0.110        0.3580          0.1575          0.0670   \n",
       "\n",
       "   Shell weight  \n",
       "0        0.3005  \n",
       "1        0.2750  \n",
       "2        0.2405  \n",
       "3        0.2350  \n",
       "4        0.1050  "
      ]
     },
     "execution_count": 5,
     "metadata": {},
     "output_type": "execute_result"
    }
   ],
   "source": [
    "df_test2 = df_test.drop([\"id\"], axis = 1)\n",
    "df_test2.head()"
   ]
  },
  {
   "cell_type": "code",
   "execution_count": 6,
   "id": "e0833f2b",
   "metadata": {
    "execution": {
     "iopub.execute_input": "2024-05-25T05:30:31.274398Z",
     "iopub.status.busy": "2024-05-25T05:30:31.274014Z",
     "iopub.status.idle": "2024-05-25T05:30:31.284127Z",
     "shell.execute_reply": "2024-05-25T05:30:31.282903Z"
    },
    "papermill": {
     "duration": 0.026978,
     "end_time": "2024-05-25T05:30:31.286935",
     "exception": false,
     "start_time": "2024-05-25T05:30:31.259957",
     "status": "completed"
    },
    "tags": []
   },
   "outputs": [
    {
     "data": {
      "text/html": [
       "<div>\n",
       "<style scoped>\n",
       "    .dataframe tbody tr th:only-of-type {\n",
       "        vertical-align: middle;\n",
       "    }\n",
       "\n",
       "    .dataframe tbody tr th {\n",
       "        vertical-align: top;\n",
       "    }\n",
       "\n",
       "    .dataframe thead th {\n",
       "        text-align: right;\n",
       "    }\n",
       "</style>\n",
       "<table border=\"1\" class=\"dataframe\">\n",
       "  <thead>\n",
       "    <tr style=\"text-align: right;\">\n",
       "      <th></th>\n",
       "      <th>id</th>\n",
       "      <th>Rings</th>\n",
       "    </tr>\n",
       "  </thead>\n",
       "  <tbody>\n",
       "    <tr>\n",
       "      <th>0</th>\n",
       "      <td>90615</td>\n",
       "      <td>10</td>\n",
       "    </tr>\n",
       "    <tr>\n",
       "      <th>1</th>\n",
       "      <td>90616</td>\n",
       "      <td>10</td>\n",
       "    </tr>\n",
       "    <tr>\n",
       "      <th>2</th>\n",
       "      <td>90617</td>\n",
       "      <td>10</td>\n",
       "    </tr>\n",
       "    <tr>\n",
       "      <th>3</th>\n",
       "      <td>90618</td>\n",
       "      <td>10</td>\n",
       "    </tr>\n",
       "    <tr>\n",
       "      <th>4</th>\n",
       "      <td>90619</td>\n",
       "      <td>10</td>\n",
       "    </tr>\n",
       "  </tbody>\n",
       "</table>\n",
       "</div>"
      ],
      "text/plain": [
       "      id  Rings\n",
       "0  90615     10\n",
       "1  90616     10\n",
       "2  90617     10\n",
       "3  90618     10\n",
       "4  90619     10"
      ]
     },
     "execution_count": 6,
     "metadata": {},
     "output_type": "execute_result"
    }
   ],
   "source": [
    "sub = files[0]\n",
    "sub.head()"
   ]
  },
  {
   "cell_type": "code",
   "execution_count": 7,
   "id": "232e0155",
   "metadata": {
    "execution": {
     "iopub.execute_input": "2024-05-25T05:30:31.319160Z",
     "iopub.status.busy": "2024-05-25T05:30:31.318680Z",
     "iopub.status.idle": "2024-05-25T05:30:31.327359Z",
     "shell.execute_reply": "2024-05-25T05:30:31.326186Z"
    },
    "papermill": {
     "duration": 0.029435,
     "end_time": "2024-05-25T05:30:31.329858",
     "exception": false,
     "start_time": "2024-05-25T05:30:31.300423",
     "status": "completed"
    },
    "tags": []
   },
   "outputs": [
    {
     "data": {
      "text/plain": [
       "(90615, 10)"
      ]
     },
     "execution_count": 7,
     "metadata": {},
     "output_type": "execute_result"
    }
   ],
   "source": [
    "df_train.shape"
   ]
  },
  {
   "cell_type": "code",
   "execution_count": 8,
   "id": "e238bc2d",
   "metadata": {
    "execution": {
     "iopub.execute_input": "2024-05-25T05:30:31.360045Z",
     "iopub.status.busy": "2024-05-25T05:30:31.358765Z",
     "iopub.status.idle": "2024-05-25T05:30:31.396274Z",
     "shell.execute_reply": "2024-05-25T05:30:31.394975Z"
    },
    "papermill": {
     "duration": 0.056489,
     "end_time": "2024-05-25T05:30:31.399846",
     "exception": false,
     "start_time": "2024-05-25T05:30:31.343357",
     "status": "completed"
    },
    "tags": []
   },
   "outputs": [
    {
     "name": "stdout",
     "output_type": "stream",
     "text": [
      "<class 'pandas.core.frame.DataFrame'>\n",
      "RangeIndex: 90615 entries, 0 to 90614\n",
      "Data columns (total 10 columns):\n",
      " #   Column          Non-Null Count  Dtype  \n",
      "---  ------          --------------  -----  \n",
      " 0   id              90615 non-null  int64  \n",
      " 1   Sex             90615 non-null  object \n",
      " 2   Length          90615 non-null  float64\n",
      " 3   Diameter        90615 non-null  float64\n",
      " 4   Height          90615 non-null  float64\n",
      " 5   Whole weight    90615 non-null  float64\n",
      " 6   Whole weight.1  90615 non-null  float64\n",
      " 7   Whole weight.2  90615 non-null  float64\n",
      " 8   Shell weight    90615 non-null  float64\n",
      " 9   Rings           90615 non-null  int64  \n",
      "dtypes: float64(7), int64(2), object(1)\n",
      "memory usage: 6.9+ MB\n"
     ]
    }
   ],
   "source": [
    "df_train.info()"
   ]
  },
  {
   "cell_type": "code",
   "execution_count": 9,
   "id": "8bfcc7ed",
   "metadata": {
    "execution": {
     "iopub.execute_input": "2024-05-25T05:30:31.432820Z",
     "iopub.status.busy": "2024-05-25T05:30:31.431176Z",
     "iopub.status.idle": "2024-05-25T05:30:31.451379Z",
     "shell.execute_reply": "2024-05-25T05:30:31.450092Z"
    },
    "papermill": {
     "duration": 0.038853,
     "end_time": "2024-05-25T05:30:31.453986",
     "exception": false,
     "start_time": "2024-05-25T05:30:31.415133",
     "status": "completed"
    },
    "tags": []
   },
   "outputs": [
    {
     "data": {
      "text/plain": [
       "Sex\n",
       "I    33093\n",
       "M    31027\n",
       "F    26495\n",
       "Name: count, dtype: int64"
      ]
     },
     "execution_count": 9,
     "metadata": {},
     "output_type": "execute_result"
    }
   ],
   "source": [
    "df_train[\"Sex\"].value_counts()"
   ]
  },
  {
   "cell_type": "code",
   "execution_count": 10,
   "id": "162b34ea",
   "metadata": {
    "execution": {
     "iopub.execute_input": "2024-05-25T05:30:31.483916Z",
     "iopub.status.busy": "2024-05-25T05:30:31.483049Z",
     "iopub.status.idle": "2024-05-25T05:30:31.508177Z",
     "shell.execute_reply": "2024-05-25T05:30:31.506871Z"
    },
    "papermill": {
     "duration": 0.042862,
     "end_time": "2024-05-25T05:30:31.510887",
     "exception": false,
     "start_time": "2024-05-25T05:30:31.468025",
     "status": "completed"
    },
    "tags": []
   },
   "outputs": [
    {
     "data": {
      "text/plain": [
       "id                0.0\n",
       "Sex               0.0\n",
       "Length            0.0\n",
       "Diameter          0.0\n",
       "Height            0.0\n",
       "Whole weight      0.0\n",
       "Whole weight.1    0.0\n",
       "Whole weight.2    0.0\n",
       "Shell weight      0.0\n",
       "Rings             0.0\n",
       "dtype: float64"
      ]
     },
     "execution_count": 10,
     "metadata": {},
     "output_type": "execute_result"
    }
   ],
   "source": [
    "df_train.isnull().sum()/len(df_train)*100"
   ]
  },
  {
   "cell_type": "code",
   "execution_count": 11,
   "id": "3f5cbe85",
   "metadata": {
    "execution": {
     "iopub.execute_input": "2024-05-25T05:30:31.544115Z",
     "iopub.status.busy": "2024-05-25T05:30:31.542119Z",
     "iopub.status.idle": "2024-05-25T05:30:31.579697Z",
     "shell.execute_reply": "2024-05-25T05:30:31.578563Z"
    },
    "papermill": {
     "duration": 0.056143,
     "end_time": "2024-05-25T05:30:31.581980",
     "exception": false,
     "start_time": "2024-05-25T05:30:31.525837",
     "status": "completed"
    },
    "tags": []
   },
   "outputs": [
    {
     "data": {
      "text/plain": [
       "0"
      ]
     },
     "execution_count": 11,
     "metadata": {},
     "output_type": "execute_result"
    }
   ],
   "source": [
    "df_train.duplicated().sum()"
   ]
  },
  {
   "cell_type": "code",
   "execution_count": 12,
   "id": "7dc97939",
   "metadata": {
    "execution": {
     "iopub.execute_input": "2024-05-25T05:30:31.620548Z",
     "iopub.status.busy": "2024-05-25T05:30:31.620028Z",
     "iopub.status.idle": "2024-05-25T05:30:31.631776Z",
     "shell.execute_reply": "2024-05-25T05:30:31.630588Z"
    },
    "papermill": {
     "duration": 0.037896,
     "end_time": "2024-05-25T05:30:31.635281",
     "exception": false,
     "start_time": "2024-05-25T05:30:31.597385",
     "status": "completed"
    },
    "tags": []
   },
   "outputs": [
    {
     "data": {
      "text/plain": [
       "Index(['id', 'Length', 'Diameter', 'Height', 'Whole weight', 'Whole weight.1',\n",
       "       'Whole weight.2', 'Shell weight', 'Rings'],\n",
       "      dtype='object')"
      ]
     },
     "execution_count": 12,
     "metadata": {},
     "output_type": "execute_result"
    }
   ],
   "source": [
    "cols = df_train.select_dtypes(include = \"number\").columns\n",
    "cols"
   ]
  },
  {
   "cell_type": "code",
   "execution_count": 13,
   "id": "b79c824e",
   "metadata": {
    "execution": {
     "iopub.execute_input": "2024-05-25T05:30:31.666600Z",
     "iopub.status.busy": "2024-05-25T05:30:31.665343Z",
     "iopub.status.idle": "2024-05-25T05:30:31.673121Z",
     "shell.execute_reply": "2024-05-25T05:30:31.672086Z"
    },
    "papermill": {
     "duration": 0.025675,
     "end_time": "2024-05-25T05:30:31.675725",
     "exception": false,
     "start_time": "2024-05-25T05:30:31.650050",
     "status": "completed"
    },
    "tags": []
   },
   "outputs": [
    {
     "data": {
      "text/plain": [
       "'for i in cols:\\n    sns.histplot(data = df_train, x = i, color = \"red\")\\n    plt.show()\\n'"
      ]
     },
     "execution_count": 13,
     "metadata": {},
     "output_type": "execute_result"
    }
   ],
   "source": [
    "\"\"\"for i in cols:\n",
    "    sns.histplot(data = df_train, x = i, color = \"red\")\n",
    "    plt.show()\n",
    "\"\"\""
   ]
  },
  {
   "cell_type": "code",
   "execution_count": 14,
   "id": "6986ee05",
   "metadata": {
    "execution": {
     "iopub.execute_input": "2024-05-25T05:30:31.705996Z",
     "iopub.status.busy": "2024-05-25T05:30:31.705075Z",
     "iopub.status.idle": "2024-05-25T05:30:33.339970Z",
     "shell.execute_reply": "2024-05-25T05:30:33.338762Z"
    },
    "papermill": {
     "duration": 1.65261,
     "end_time": "2024-05-25T05:30:33.342310",
     "exception": false,
     "start_time": "2024-05-25T05:30:31.689700",
     "status": "completed"
    },
    "tags": []
   },
   "outputs": [
    {
     "data": {
      "image/png": "[encoded data removed]",
      "text/plain": [
       "<Figure size 640x480 with 1 Axes>"
      ]
     },
     "metadata": {},
     "output_type": "display_data"
    },
    {
     "data": {
      "image/png": "[encoded data removed]",
      "text/plain": [
       "<Figure size 640x480 with 1 Axes>"
      ]
     },
     "metadata": {},
     "output_type": "display_data"
    },
    {
     "data": {
      "image/png": "[encoded data removed]",
      "text/plain": [
       "<Figure size 640x480 with 1 Axes>"
      ]
     },
     "metadata": {},
     "output_type": "display_data"
    },
    {
     "data": {
      "image/png": "[encoded data removed]",
      "text/plain": [
       "<Figure size 640x480 with 1 Axes>"
      ]
     },
     "metadata": {},
     "output_type": "display_data"
    },
    {
     "data": {
      "image/png": "[encoded data removed]",
      "text/plain": [
       "<Figure size 640x480 with 1 Axes>"
      ]
     },
     "metadata": {},
     "output_type": "display_data"
    },
    {
     "data": {
      "image/png": "[encoded data removed]",
      "text/plain": [
       "<Figure size 640x480 with 1 Axes>"
      ]
     },
     "metadata": {},
     "output_type": "display_data"
    },
    {
     "data": {
      "image/png": "[encoded data removed]",
      "text/plain": [
       "<Figure size 640x480 with 1 Axes>"
      ]
     },
     "metadata": {},
     "output_type": "display_data"
    },
    {
     "data": {
      "image/png": "[encoded data removed]",
      "text/plain": [
       "<Figure size 640x480 with 1 Axes>"
      ]
     },
     "metadata": {},
     "output_type": "display_data"
    },
    {
     "data": {
      "image/png": "[encoded data removed]",
      "text/plain": [
       "<Figure size 640x480 with 1 Axes>"
      ]
     },
     "metadata": {},
     "output_type": "display_data"
    }
   ],
   "source": [
    "for i in cols:\n",
    "    sns.boxplot(data = df_train, x = i, color = \"green\")\n",
    "    plt.show()"
   ]
  },
  {
   "cell_type": "markdown",
   "id": "1cc72060",
   "metadata": {
    "papermill": {
     "duration": 0.016581,
     "end_time": "2024-05-25T05:30:33.374954",
     "exception": false,
     "start_time": "2024-05-25T05:30:33.358373",
     "status": "completed"
    },
    "tags": []
   },
   "source": [
    "Treatment"
   ]
  },
  {
   "cell_type": "code",
   "execution_count": 15,
   "id": "22e9711a",
   "metadata": {
    "execution": {
     "iopub.execute_input": "2024-05-25T05:30:33.409646Z",
     "iopub.status.busy": "2024-05-25T05:30:33.408897Z",
     "iopub.status.idle": "2024-05-25T05:30:33.415336Z",
     "shell.execute_reply": "2024-05-25T05:30:33.413843Z"
    },
    "papermill": {
     "duration": 0.026075,
     "end_time": "2024-05-25T05:30:33.417921",
     "exception": false,
     "start_time": "2024-05-25T05:30:33.391846",
     "status": "completed"
    },
    "tags": []
   },
   "outputs": [],
   "source": [
    "def wisker(col):\n",
    "    q1, q3 = np.percentile(col, [25, 75])\n",
    "    iqr = q3 - q1\n",
    "    lw = q1 - (1.5)*iqr\n",
    "    uw = q3 + (1.5)*iqr\n",
    "    return lw, uw"
   ]
  },
  {
   "cell_type": "code",
   "execution_count": 16,
   "id": "3ec07eaa",
   "metadata": {
    "execution": {
     "iopub.execute_input": "2024-05-25T05:30:33.458790Z",
     "iopub.status.busy": "2024-05-25T05:30:33.457386Z",
     "iopub.status.idle": "2024-05-25T05:30:33.519483Z",
     "shell.execute_reply": "2024-05-25T05:30:33.518479Z"
    },
    "papermill": {
     "duration": 0.085191,
     "end_time": "2024-05-25T05:30:33.522616",
     "exception": false,
     "start_time": "2024-05-25T05:30:33.437425",
     "status": "completed"
    },
    "tags": []
   },
   "outputs": [],
   "source": [
    "for i in cols:\n",
    "    lw, uw = wisker(df_train[i])\n",
    "    df_train[i] = np.where(df_train[i] < lw , lw, df_train[i])\n",
    "    df_train[i] = np.where(df_train[i] > uw , uw, df_train[i])"
   ]
  },
  {
   "cell_type": "code",
   "execution_count": 17,
   "id": "2abef0a7",
   "metadata": {
    "execution": {
     "iopub.execute_input": "2024-05-25T05:30:33.571932Z",
     "iopub.status.busy": "2024-05-25T05:30:33.570947Z",
     "iopub.status.idle": "2024-05-25T05:30:35.179184Z",
     "shell.execute_reply": "2024-05-25T05:30:35.177955Z"
    },
    "papermill": {
     "duration": 1.631952,
     "end_time": "2024-05-25T05:30:35.181843",
     "exception": false,
     "start_time": "2024-05-25T05:30:33.549891",
     "status": "completed"
    },
    "tags": []
   },
   "outputs": [
    {
     "data": {
      "image/png": "[encoded data removed]",
      "text/plain": [
       "<Figure size 640x480 with 1 Axes>"
      ]
     },
     "metadata": {},
     "output_type": "display_data"
    },
    {
     "data": {
      "image/png": "[encoded data removed]",
      "text/plain": [
       "<Figure size 640x480 with 1 Axes>"
      ]
     },
     "metadata": {},
     "output_type": "display_data"
    },
    {
     "data": {
      "image/png": "[encoded data removed]",
      "text/plain": [
       "<Figure size 640x480 with 1 Axes>"
      ]
     },
     "metadata": {},
     "output_type": "display_data"
    },
    {
     "data": {
      "image/png": "[encoded data removed]",
      "text/plain": [
       "<Figure size 640x480 with 1 Axes>"
      ]
     },
     "metadata": {},
     "output_type": "display_data"
    },
    {
     "data": {
      "image/png": "[encoded data removed]",
      "text/plain": [
       "<Figure size 640x480 with 1 Axes>"
      ]
     },
     "metadata": {},
     "output_type": "display_data"
    },
    {
     "data": {
      "image/png": "[encoded data removed]",
      "text/plain": [
       "<Figure size 640x480 with 1 Axes>"
      ]
     },
     "metadata": {},
     "output_type": "display_data"
    },
    {
     "data": {
      "image/png": "[encoded data removed]",
      "text/plain": [
       "<Figure size 640x480 with 1 Axes>"
      ]
     },
     "metadata": {},
     "output_type": "display_data"
    },
    {
     "data": {
      "image/png": "[encoded data removed]",
      "text/plain": [
       "<Figure size 640x480 with 1 Axes>"
      ]
     },
     "metadata": {},
     "output_type": "display_data"
    },
    {
     "data": {
      "image/png": "[encoded data removed]",
      "text/plain": [
       "<Figure size 640x480 with 1 Axes>"
      ]
     },
     "metadata": {},
     "output_type": "display_data"
    }
   ],
   "source": [
    "for i in cols:\n",
    "    sns.boxplot(data = df_train, x = i, color = \"blue\")\n",
    "    plt.show()"
   ]
  },
  {
   "cell_type": "markdown",
   "id": "e3786def",
   "metadata": {
    "papermill": {
     "duration": 0.017084,
     "end_time": "2024-05-25T05:30:35.216374",
     "exception": false,
     "start_time": "2024-05-25T05:30:35.199290",
     "status": "completed"
    },
    "tags": []
   },
   "source": [
    "TREATMENT"
   ]
  },
  {
   "cell_type": "code",
   "execution_count": 18,
   "id": "f0f957e6",
   "metadata": {
    "execution": {
     "iopub.execute_input": "2024-05-25T05:30:35.254395Z",
     "iopub.status.busy": "2024-05-25T05:30:35.253286Z",
     "iopub.status.idle": "2024-05-25T05:30:35.280531Z",
     "shell.execute_reply": "2024-05-25T05:30:35.279403Z"
    },
    "papermill": {
     "duration": 0.048891,
     "end_time": "2024-05-25T05:30:35.283075",
     "exception": false,
     "start_time": "2024-05-25T05:30:35.234184",
     "status": "completed"
    },
    "tags": []
   },
   "outputs": [
    {
     "data": {
      "text/html": [
       "<div>\n",
       "<style scoped>\n",
       "    .dataframe tbody tr th:only-of-type {\n",
       "        vertical-align: middle;\n",
       "    }\n",
       "\n",
       "    .dataframe tbody tr th {\n",
       "        vertical-align: top;\n",
       "    }\n",
       "\n",
       "    .dataframe thead th {\n",
       "        text-align: right;\n",
       "    }\n",
       "</style>\n",
       "<table border=\"1\" class=\"dataframe\">\n",
       "  <thead>\n",
       "    <tr style=\"text-align: right;\">\n",
       "      <th></th>\n",
       "      <th>Sex</th>\n",
       "      <th>Length</th>\n",
       "      <th>Diameter</th>\n",
       "      <th>Height</th>\n",
       "      <th>Whole weight</th>\n",
       "      <th>Whole weight.1</th>\n",
       "      <th>Whole weight.2</th>\n",
       "      <th>Shell weight</th>\n",
       "    </tr>\n",
       "  </thead>\n",
       "  <tbody>\n",
       "    <tr>\n",
       "      <th>0</th>\n",
       "      <td>F</td>\n",
       "      <td>0.5500</td>\n",
       "      <td>0.4300</td>\n",
       "      <td>0.150</td>\n",
       "      <td>0.7715</td>\n",
       "      <td>0.3285</td>\n",
       "      <td>0.1465</td>\n",
       "      <td>0.2400</td>\n",
       "    </tr>\n",
       "    <tr>\n",
       "      <th>1</th>\n",
       "      <td>F</td>\n",
       "      <td>0.6300</td>\n",
       "      <td>0.4900</td>\n",
       "      <td>0.145</td>\n",
       "      <td>1.1300</td>\n",
       "      <td>0.4580</td>\n",
       "      <td>0.2765</td>\n",
       "      <td>0.3200</td>\n",
       "    </tr>\n",
       "    <tr>\n",
       "      <th>2</th>\n",
       "      <td>I</td>\n",
       "      <td>0.2125</td>\n",
       "      <td>0.1575</td>\n",
       "      <td>0.035</td>\n",
       "      <td>0.0210</td>\n",
       "      <td>0.0055</td>\n",
       "      <td>0.0030</td>\n",
       "      <td>0.0050</td>\n",
       "    </tr>\n",
       "    <tr>\n",
       "      <th>3</th>\n",
       "      <td>M</td>\n",
       "      <td>0.5950</td>\n",
       "      <td>0.4750</td>\n",
       "      <td>0.150</td>\n",
       "      <td>0.9145</td>\n",
       "      <td>0.3755</td>\n",
       "      <td>0.2055</td>\n",
       "      <td>0.2500</td>\n",
       "    </tr>\n",
       "    <tr>\n",
       "      <th>4</th>\n",
       "      <td>I</td>\n",
       "      <td>0.5550</td>\n",
       "      <td>0.4250</td>\n",
       "      <td>0.130</td>\n",
       "      <td>0.7820</td>\n",
       "      <td>0.3695</td>\n",
       "      <td>0.1600</td>\n",
       "      <td>0.1975</td>\n",
       "    </tr>\n",
       "    <tr>\n",
       "      <th>...</th>\n",
       "      <td>...</td>\n",
       "      <td>...</td>\n",
       "      <td>...</td>\n",
       "      <td>...</td>\n",
       "      <td>...</td>\n",
       "      <td>...</td>\n",
       "      <td>...</td>\n",
       "      <td>...</td>\n",
       "    </tr>\n",
       "    <tr>\n",
       "      <th>90610</th>\n",
       "      <td>M</td>\n",
       "      <td>0.3350</td>\n",
       "      <td>0.2350</td>\n",
       "      <td>0.075</td>\n",
       "      <td>0.1585</td>\n",
       "      <td>0.0685</td>\n",
       "      <td>0.0370</td>\n",
       "      <td>0.0450</td>\n",
       "    </tr>\n",
       "    <tr>\n",
       "      <th>90611</th>\n",
       "      <td>M</td>\n",
       "      <td>0.5550</td>\n",
       "      <td>0.4250</td>\n",
       "      <td>0.150</td>\n",
       "      <td>0.8790</td>\n",
       "      <td>0.3865</td>\n",
       "      <td>0.1815</td>\n",
       "      <td>0.2400</td>\n",
       "    </tr>\n",
       "    <tr>\n",
       "      <th>90612</th>\n",
       "      <td>I</td>\n",
       "      <td>0.4350</td>\n",
       "      <td>0.3300</td>\n",
       "      <td>0.095</td>\n",
       "      <td>0.3215</td>\n",
       "      <td>0.1510</td>\n",
       "      <td>0.0785</td>\n",
       "      <td>0.0815</td>\n",
       "    </tr>\n",
       "    <tr>\n",
       "      <th>90613</th>\n",
       "      <td>I</td>\n",
       "      <td>0.3450</td>\n",
       "      <td>0.2700</td>\n",
       "      <td>0.075</td>\n",
       "      <td>0.2000</td>\n",
       "      <td>0.0980</td>\n",
       "      <td>0.0490</td>\n",
       "      <td>0.0700</td>\n",
       "    </tr>\n",
       "    <tr>\n",
       "      <th>90614</th>\n",
       "      <td>I</td>\n",
       "      <td>0.4250</td>\n",
       "      <td>0.3250</td>\n",
       "      <td>0.100</td>\n",
       "      <td>0.3455</td>\n",
       "      <td>0.1525</td>\n",
       "      <td>0.0785</td>\n",
       "      <td>0.1050</td>\n",
       "    </tr>\n",
       "  </tbody>\n",
       "</table>\n",
       "<p>90615 rows × 8 columns</p>\n",
       "</div>"
      ],
      "text/plain": [
       "      Sex  Length  Diameter  Height  Whole weight  Whole weight.1  \\\n",
       "0       F  0.5500    0.4300   0.150        0.7715          0.3285   \n",
       "1       F  0.6300    0.4900   0.145        1.1300          0.4580   \n",
       "2       I  0.2125    0.1575   0.035        0.0210          0.0055   \n",
       "3       M  0.5950    0.4750   0.150        0.9145          0.3755   \n",
       "4       I  0.5550    0.4250   0.130        0.7820          0.3695   \n",
       "...    ..     ...       ...     ...           ...             ...   \n",
       "90610   M  0.3350    0.2350   0.075        0.1585          0.0685   \n",
       "90611   M  0.5550    0.4250   0.150        0.8790          0.3865   \n",
       "90612   I  0.4350    0.3300   0.095        0.3215          0.1510   \n",
       "90613   I  0.3450    0.2700   0.075        0.2000          0.0980   \n",
       "90614   I  0.4250    0.3250   0.100        0.3455          0.1525   \n",
       "\n",
       "       Whole weight.2  Shell weight  \n",
       "0              0.1465        0.2400  \n",
       "1              0.2765        0.3200  \n",
       "2              0.0030        0.0050  \n",
       "3              0.2055        0.2500  \n",
       "4              0.1600        0.1975  \n",
       "...               ...           ...  \n",
       "90610          0.0370        0.0450  \n",
       "90611          0.1815        0.2400  \n",
       "90612          0.0785        0.0815  \n",
       "90613          0.0490        0.0700  \n",
       "90614          0.0785        0.1050  \n",
       "\n",
       "[90615 rows x 8 columns]"
      ]
     },
     "execution_count": 18,
     "metadata": {},
     "output_type": "execute_result"
    }
   ],
   "source": [
    "X = df_train.drop([\"id\", \"Rings\"], axis = 1)\n",
    "X"
   ]
  },
  {
   "cell_type": "code",
   "execution_count": 19,
   "id": "e3c7a40a",
   "metadata": {
    "execution": {
     "iopub.execute_input": "2024-05-25T05:30:35.323026Z",
     "iopub.status.busy": "2024-05-25T05:30:35.322639Z",
     "iopub.status.idle": "2024-05-25T05:30:35.330985Z",
     "shell.execute_reply": "2024-05-25T05:30:35.330031Z"
    },
    "papermill": {
     "duration": 0.032567,
     "end_time": "2024-05-25T05:30:35.333675",
     "exception": false,
     "start_time": "2024-05-25T05:30:35.301108",
     "status": "completed"
    },
    "tags": []
   },
   "outputs": [
    {
     "data": {
      "text/plain": [
       "0        11.0\n",
       "1        11.0\n",
       "2         6.0\n",
       "3        10.0\n",
       "4         9.0\n",
       "         ... \n",
       "90610     6.0\n",
       "90611     9.0\n",
       "90612     6.0\n",
       "90613     6.0\n",
       "90614     8.0\n",
       "Name: Rings, Length: 90615, dtype: float64"
      ]
     },
     "execution_count": 19,
     "metadata": {},
     "output_type": "execute_result"
    }
   ],
   "source": [
    "y = df_train[\"Rings\"]\n",
    "y"
   ]
  },
  {
   "cell_type": "code",
   "execution_count": 20,
   "id": "e2a90195",
   "metadata": {
    "execution": {
     "iopub.execute_input": "2024-05-25T05:30:35.434423Z",
     "iopub.status.busy": "2024-05-25T05:30:35.433760Z",
     "iopub.status.idle": "2024-05-25T05:30:35.467324Z",
     "shell.execute_reply": "2024-05-25T05:30:35.466098Z"
    },
    "papermill": {
     "duration": 0.057198,
     "end_time": "2024-05-25T05:30:35.470036",
     "exception": false,
     "start_time": "2024-05-25T05:30:35.412838",
     "status": "completed"
    },
    "tags": []
   },
   "outputs": [
    {
     "data": {
      "text/plain": [
       "((72492, 8), (18123, 8), (72492,), (18123,))"
      ]
     },
     "execution_count": 20,
     "metadata": {},
     "output_type": "execute_result"
    }
   ],
   "source": [
    "X_train, X_test, y_train, y_test = train_test_split(X, y, test_size = 0.2)\n",
    "X_train.shape, X_test.shape, y_train.shape, y_test.shape"
   ]
  },
  {
   "cell_type": "code",
   "execution_count": 21,
   "id": "1060d873",
   "metadata": {
    "execution": {
     "iopub.execute_input": "2024-05-25T05:30:35.512616Z",
     "iopub.status.busy": "2024-05-25T05:30:35.511827Z",
     "iopub.status.idle": "2024-05-25T05:30:35.531054Z",
     "shell.execute_reply": "2024-05-25T05:30:35.529412Z"
    },
    "papermill": {
     "duration": 0.043164,
     "end_time": "2024-05-25T05:30:35.533397",
     "exception": false,
     "start_time": "2024-05-25T05:30:35.490233",
     "status": "completed"
    },
    "tags": []
   },
   "outputs": [
    {
     "data": {
      "text/html": [
       "<div>\n",
       "<style scoped>\n",
       "    .dataframe tbody tr th:only-of-type {\n",
       "        vertical-align: middle;\n",
       "    }\n",
       "\n",
       "    .dataframe tbody tr th {\n",
       "        vertical-align: top;\n",
       "    }\n",
       "\n",
       "    .dataframe thead th {\n",
       "        text-align: right;\n",
       "    }\n",
       "</style>\n",
       "<table border=\"1\" class=\"dataframe\">\n",
       "  <thead>\n",
       "    <tr style=\"text-align: right;\">\n",
       "      <th></th>\n",
       "      <th>Sex</th>\n",
       "      <th>Length</th>\n",
       "      <th>Diameter</th>\n",
       "      <th>Height</th>\n",
       "      <th>Whole weight</th>\n",
       "      <th>Whole weight.1</th>\n",
       "      <th>Whole weight.2</th>\n",
       "      <th>Shell weight</th>\n",
       "    </tr>\n",
       "  </thead>\n",
       "  <tbody>\n",
       "    <tr>\n",
       "      <th>1211</th>\n",
       "      <td>F</td>\n",
       "      <td>0.545</td>\n",
       "      <td>0.425</td>\n",
       "      <td>0.135</td>\n",
       "      <td>0.8360</td>\n",
       "      <td>0.3345</td>\n",
       "      <td>0.1715</td>\n",
       "      <td>0.250</td>\n",
       "    </tr>\n",
       "    <tr>\n",
       "      <th>37517</th>\n",
       "      <td>I</td>\n",
       "      <td>0.475</td>\n",
       "      <td>0.375</td>\n",
       "      <td>0.110</td>\n",
       "      <td>0.5155</td>\n",
       "      <td>0.2420</td>\n",
       "      <td>0.1170</td>\n",
       "      <td>0.135</td>\n",
       "    </tr>\n",
       "    <tr>\n",
       "      <th>63248</th>\n",
       "      <td>I</td>\n",
       "      <td>0.280</td>\n",
       "      <td>0.215</td>\n",
       "      <td>0.090</td>\n",
       "      <td>0.0990</td>\n",
       "      <td>0.0380</td>\n",
       "      <td>0.0235</td>\n",
       "      <td>0.030</td>\n",
       "    </tr>\n",
       "    <tr>\n",
       "      <th>55075</th>\n",
       "      <td>F</td>\n",
       "      <td>0.495</td>\n",
       "      <td>0.385</td>\n",
       "      <td>0.120</td>\n",
       "      <td>0.6905</td>\n",
       "      <td>0.3125</td>\n",
       "      <td>0.1655</td>\n",
       "      <td>0.161</td>\n",
       "    </tr>\n",
       "    <tr>\n",
       "      <th>50</th>\n",
       "      <td>I</td>\n",
       "      <td>0.470</td>\n",
       "      <td>0.375</td>\n",
       "      <td>0.120</td>\n",
       "      <td>0.5395</td>\n",
       "      <td>0.2595</td>\n",
       "      <td>0.1165</td>\n",
       "      <td>0.160</td>\n",
       "    </tr>\n",
       "  </tbody>\n",
       "</table>\n",
       "</div>"
      ],
      "text/plain": [
       "      Sex  Length  Diameter  Height  Whole weight  Whole weight.1  \\\n",
       "1211    F   0.545     0.425   0.135        0.8360          0.3345   \n",
       "37517   I   0.475     0.375   0.110        0.5155          0.2420   \n",
       "63248   I   0.280     0.215   0.090        0.0990          0.0380   \n",
       "55075   F   0.495     0.385   0.120        0.6905          0.3125   \n",
       "50      I   0.470     0.375   0.120        0.5395          0.2595   \n",
       "\n",
       "       Whole weight.2  Shell weight  \n",
       "1211           0.1715         0.250  \n",
       "37517          0.1170         0.135  \n",
       "63248          0.0235         0.030  \n",
       "55075          0.1655         0.161  \n",
       "50             0.1165         0.160  "
      ]
     },
     "execution_count": 21,
     "metadata": {},
     "output_type": "execute_result"
    }
   ],
   "source": [
    "X_train.head()"
   ]
  },
  {
   "cell_type": "code",
   "execution_count": 22,
   "id": "a0cf586c",
   "metadata": {
    "execution": {
     "iopub.execute_input": "2024-05-25T05:30:35.573203Z",
     "iopub.status.busy": "2024-05-25T05:30:35.572424Z",
     "iopub.status.idle": "2024-05-25T05:30:35.580716Z",
     "shell.execute_reply": "2024-05-25T05:30:35.579473Z"
    },
    "papermill": {
     "duration": 0.030343,
     "end_time": "2024-05-25T05:30:35.583019",
     "exception": false,
     "start_time": "2024-05-25T05:30:35.552676",
     "status": "completed"
    },
    "tags": []
   },
   "outputs": [
    {
     "data": {
      "text/plain": [
       "1211     10.0\n",
       "37517     8.0\n",
       "63248     5.0\n",
       "55075     9.0\n",
       "50        9.0\n",
       "Name: Rings, dtype: float64"
      ]
     },
     "execution_count": 22,
     "metadata": {},
     "output_type": "execute_result"
    }
   ],
   "source": [
    "y_train.head()"
   ]
  },
  {
   "cell_type": "code",
   "execution_count": 23,
   "id": "b8c1de61",
   "metadata": {
    "execution": {
     "iopub.execute_input": "2024-05-25T05:30:35.622171Z",
     "iopub.status.busy": "2024-05-25T05:30:35.621737Z",
     "iopub.status.idle": "2024-05-25T05:30:35.641918Z",
     "shell.execute_reply": "2024-05-25T05:30:35.640535Z"
    },
    "papermill": {
     "duration": 0.042699,
     "end_time": "2024-05-25T05:30:35.644362",
     "exception": false,
     "start_time": "2024-05-25T05:30:35.601663",
     "status": "completed"
    },
    "tags": []
   },
   "outputs": [
    {
     "data": {
      "text/html": [
       "<div>\n",
       "<style scoped>\n",
       "    .dataframe tbody tr th:only-of-type {\n",
       "        vertical-align: middle;\n",
       "    }\n",
       "\n",
       "    .dataframe tbody tr th {\n",
       "        vertical-align: top;\n",
       "    }\n",
       "\n",
       "    .dataframe thead th {\n",
       "        text-align: right;\n",
       "    }\n",
       "</style>\n",
       "<table border=\"1\" class=\"dataframe\">\n",
       "  <thead>\n",
       "    <tr style=\"text-align: right;\">\n",
       "      <th></th>\n",
       "      <th>Length</th>\n",
       "      <th>Diameter</th>\n",
       "      <th>Height</th>\n",
       "      <th>Whole weight</th>\n",
       "      <th>Whole weight.1</th>\n",
       "      <th>Whole weight.2</th>\n",
       "      <th>Shell weight</th>\n",
       "    </tr>\n",
       "  </thead>\n",
       "  <tbody>\n",
       "    <tr>\n",
       "      <th>1211</th>\n",
       "      <td>0.545</td>\n",
       "      <td>0.425</td>\n",
       "      <td>0.135</td>\n",
       "      <td>0.8360</td>\n",
       "      <td>0.3345</td>\n",
       "      <td>0.1715</td>\n",
       "      <td>0.250</td>\n",
       "    </tr>\n",
       "    <tr>\n",
       "      <th>37517</th>\n",
       "      <td>0.475</td>\n",
       "      <td>0.375</td>\n",
       "      <td>0.110</td>\n",
       "      <td>0.5155</td>\n",
       "      <td>0.2420</td>\n",
       "      <td>0.1170</td>\n",
       "      <td>0.135</td>\n",
       "    </tr>\n",
       "    <tr>\n",
       "      <th>63248</th>\n",
       "      <td>0.280</td>\n",
       "      <td>0.215</td>\n",
       "      <td>0.090</td>\n",
       "      <td>0.0990</td>\n",
       "      <td>0.0380</td>\n",
       "      <td>0.0235</td>\n",
       "      <td>0.030</td>\n",
       "    </tr>\n",
       "    <tr>\n",
       "      <th>55075</th>\n",
       "      <td>0.495</td>\n",
       "      <td>0.385</td>\n",
       "      <td>0.120</td>\n",
       "      <td>0.6905</td>\n",
       "      <td>0.3125</td>\n",
       "      <td>0.1655</td>\n",
       "      <td>0.161</td>\n",
       "    </tr>\n",
       "    <tr>\n",
       "      <th>50</th>\n",
       "      <td>0.470</td>\n",
       "      <td>0.375</td>\n",
       "      <td>0.120</td>\n",
       "      <td>0.5395</td>\n",
       "      <td>0.2595</td>\n",
       "      <td>0.1165</td>\n",
       "      <td>0.160</td>\n",
       "    </tr>\n",
       "  </tbody>\n",
       "</table>\n",
       "</div>"
      ],
      "text/plain": [
       "       Length  Diameter  Height  Whole weight  Whole weight.1  Whole weight.2  \\\n",
       "1211    0.545     0.425   0.135        0.8360          0.3345          0.1715   \n",
       "37517   0.475     0.375   0.110        0.5155          0.2420          0.1170   \n",
       "63248   0.280     0.215   0.090        0.0990          0.0380          0.0235   \n",
       "55075   0.495     0.385   0.120        0.6905          0.3125          0.1655   \n",
       "50      0.470     0.375   0.120        0.5395          0.2595          0.1165   \n",
       "\n",
       "       Shell weight  \n",
       "1211          0.250  \n",
       "37517         0.135  \n",
       "63248         0.030  \n",
       "55075         0.161  \n",
       "50            0.160  "
      ]
     },
     "execution_count": 23,
     "metadata": {},
     "output_type": "execute_result"
    }
   ],
   "source": [
    "train_num = X_train.drop([\"Sex\"], axis = 1)\n",
    "train_num.head()"
   ]
  },
  {
   "cell_type": "code",
   "execution_count": 24,
   "id": "fcfeaffb",
   "metadata": {
    "execution": {
     "iopub.execute_input": "2024-05-25T05:30:35.685000Z",
     "iopub.status.busy": "2024-05-25T05:30:35.684633Z",
     "iopub.status.idle": "2024-05-25T05:30:35.693871Z",
     "shell.execute_reply": "2024-05-25T05:30:35.692787Z"
    },
    "papermill": {
     "duration": 0.032808,
     "end_time": "2024-05-25T05:30:35.696307",
     "exception": false,
     "start_time": "2024-05-25T05:30:35.663499",
     "status": "completed"
    },
    "tags": []
   },
   "outputs": [
    {
     "data": {
      "text/plain": [
       "1211     F\n",
       "37517    I\n",
       "63248    I\n",
       "55075    F\n",
       "50       I\n",
       "Name: Sex, dtype: object"
      ]
     },
     "execution_count": 24,
     "metadata": {},
     "output_type": "execute_result"
    }
   ],
   "source": [
    "train_cat = X_train[\"Sex\"].copy()\n",
    "train_cat.head()"
   ]
  },
  {
   "cell_type": "code",
   "execution_count": 25,
   "id": "a43a89a6",
   "metadata": {
    "execution": {
     "iopub.execute_input": "2024-05-25T05:30:35.738643Z",
     "iopub.status.busy": "2024-05-25T05:30:35.738264Z",
     "iopub.status.idle": "2024-05-25T05:30:35.754168Z",
     "shell.execute_reply": "2024-05-25T05:30:35.753067Z"
    },
    "papermill": {
     "duration": 0.04005,
     "end_time": "2024-05-25T05:30:35.756324",
     "exception": false,
     "start_time": "2024-05-25T05:30:35.716274",
     "status": "completed"
    },
    "tags": []
   },
   "outputs": [
    {
     "data": {
      "text/html": [
       "<div>\n",
       "<style scoped>\n",
       "    .dataframe tbody tr th:only-of-type {\n",
       "        vertical-align: middle;\n",
       "    }\n",
       "\n",
       "    .dataframe tbody tr th {\n",
       "        vertical-align: top;\n",
       "    }\n",
       "\n",
       "    .dataframe thead th {\n",
       "        text-align: right;\n",
       "    }\n",
       "</style>\n",
       "<table border=\"1\" class=\"dataframe\">\n",
       "  <thead>\n",
       "    <tr style=\"text-align: right;\">\n",
       "      <th></th>\n",
       "      <th>Sex</th>\n",
       "      <th>Length</th>\n",
       "      <th>Diameter</th>\n",
       "      <th>Height</th>\n",
       "      <th>Whole weight</th>\n",
       "      <th>Whole weight.1</th>\n",
       "      <th>Whole weight.2</th>\n",
       "      <th>Shell weight</th>\n",
       "    </tr>\n",
       "  </thead>\n",
       "  <tbody>\n",
       "    <tr>\n",
       "      <th>6187</th>\n",
       "      <td>I</td>\n",
       "      <td>0.420</td>\n",
       "      <td>0.325</td>\n",
       "      <td>0.110</td>\n",
       "      <td>0.3535</td>\n",
       "      <td>0.1480</td>\n",
       "      <td>0.0745</td>\n",
       "      <td>0.1150</td>\n",
       "    </tr>\n",
       "    <tr>\n",
       "      <th>40645</th>\n",
       "      <td>F</td>\n",
       "      <td>0.570</td>\n",
       "      <td>0.475</td>\n",
       "      <td>0.125</td>\n",
       "      <td>0.9395</td>\n",
       "      <td>0.4275</td>\n",
       "      <td>0.2150</td>\n",
       "      <td>0.2700</td>\n",
       "    </tr>\n",
       "    <tr>\n",
       "      <th>50361</th>\n",
       "      <td>F</td>\n",
       "      <td>0.570</td>\n",
       "      <td>0.450</td>\n",
       "      <td>0.140</td>\n",
       "      <td>0.8685</td>\n",
       "      <td>0.3275</td>\n",
       "      <td>0.1905</td>\n",
       "      <td>0.2550</td>\n",
       "    </tr>\n",
       "    <tr>\n",
       "      <th>68708</th>\n",
       "      <td>I</td>\n",
       "      <td>0.425</td>\n",
       "      <td>0.310</td>\n",
       "      <td>0.100</td>\n",
       "      <td>0.2645</td>\n",
       "      <td>0.0925</td>\n",
       "      <td>0.0575</td>\n",
       "      <td>0.0715</td>\n",
       "    </tr>\n",
       "    <tr>\n",
       "      <th>20763</th>\n",
       "      <td>I</td>\n",
       "      <td>0.380</td>\n",
       "      <td>0.275</td>\n",
       "      <td>0.085</td>\n",
       "      <td>0.2280</td>\n",
       "      <td>0.1075</td>\n",
       "      <td>0.0595</td>\n",
       "      <td>0.0735</td>\n",
       "    </tr>\n",
       "  </tbody>\n",
       "</table>\n",
       "</div>"
      ],
      "text/plain": [
       "      Sex  Length  Diameter  Height  Whole weight  Whole weight.1  \\\n",
       "6187    I   0.420     0.325   0.110        0.3535          0.1480   \n",
       "40645   F   0.570     0.475   0.125        0.9395          0.4275   \n",
       "50361   F   0.570     0.450   0.140        0.8685          0.3275   \n",
       "68708   I   0.425     0.310   0.100        0.2645          0.0925   \n",
       "20763   I   0.380     0.275   0.085        0.2280          0.1075   \n",
       "\n",
       "       Whole weight.2  Shell weight  \n",
       "6187           0.0745        0.1150  \n",
       "40645          0.2150        0.2700  \n",
       "50361          0.1905        0.2550  \n",
       "68708          0.0575        0.0715  \n",
       "20763          0.0595        0.0735  "
      ]
     },
     "execution_count": 25,
     "metadata": {},
     "output_type": "execute_result"
    }
   ],
   "source": [
    "X_test.head()"
   ]
  },
  {
   "cell_type": "code",
   "execution_count": 26,
   "id": "767bcacd",
   "metadata": {
    "execution": {
     "iopub.execute_input": "2024-05-25T05:30:35.797149Z",
     "iopub.status.busy": "2024-05-25T05:30:35.796088Z",
     "iopub.status.idle": "2024-05-25T05:30:35.804109Z",
     "shell.execute_reply": "2024-05-25T05:30:35.802979Z"
    },
    "papermill": {
     "duration": 0.030923,
     "end_time": "2024-05-25T05:30:35.806300",
     "exception": false,
     "start_time": "2024-05-25T05:30:35.775377",
     "status": "completed"
    },
    "tags": []
   },
   "outputs": [
    {
     "data": {
      "text/plain": [
       "6187      7.0\n",
       "40645     9.0\n",
       "50361    12.0\n",
       "68708     7.0\n",
       "20763     6.0\n",
       "Name: Rings, dtype: float64"
      ]
     },
     "execution_count": 26,
     "metadata": {},
     "output_type": "execute_result"
    }
   ],
   "source": [
    "y_test.head()"
   ]
  },
  {
   "cell_type": "code",
   "execution_count": 27,
   "id": "ad9858c5",
   "metadata": {
    "execution": {
     "iopub.execute_input": "2024-05-25T05:30:35.849187Z",
     "iopub.status.busy": "2024-05-25T05:30:35.848636Z",
     "iopub.status.idle": "2024-05-25T05:30:35.855693Z",
     "shell.execute_reply": "2024-05-25T05:30:35.854588Z"
    },
    "papermill": {
     "duration": 0.031542,
     "end_time": "2024-05-25T05:30:35.858035",
     "exception": false,
     "start_time": "2024-05-25T05:30:35.826493",
     "status": "completed"
    },
    "tags": []
   },
   "outputs": [
    {
     "data": {
      "text/plain": [
       "(18123,)"
      ]
     },
     "execution_count": 27,
     "metadata": {},
     "output_type": "execute_result"
    }
   ],
   "source": [
    "y_test.shape"
   ]
  },
  {
   "cell_type": "markdown",
   "id": "ed226380",
   "metadata": {
    "papermill": {
     "duration": 0.01895,
     "end_time": "2024-05-25T05:30:35.897659",
     "exception": false,
     "start_time": "2024-05-25T05:30:35.878709",
     "status": "completed"
    },
    "tags": []
   },
   "source": [
    "Pipeline"
   ]
  },
  {
   "cell_type": "code",
   "execution_count": 28,
   "id": "9ac16062",
   "metadata": {
    "execution": {
     "iopub.execute_input": "2024-05-25T05:30:35.938326Z",
     "iopub.status.busy": "2024-05-25T05:30:35.937945Z",
     "iopub.status.idle": "2024-05-25T05:30:35.943114Z",
     "shell.execute_reply": "2024-05-25T05:30:35.941828Z"
    },
    "papermill": {
     "duration": 0.028063,
     "end_time": "2024-05-25T05:30:35.945286",
     "exception": false,
     "start_time": "2024-05-25T05:30:35.917223",
     "status": "completed"
    },
    "tags": []
   },
   "outputs": [],
   "source": [
    "num_pipeline = Pipeline([(\"scaler\", StandardScaler())])"
   ]
  },
  {
   "cell_type": "code",
   "execution_count": 29,
   "id": "7aad510a",
   "metadata": {
    "execution": {
     "iopub.execute_input": "2024-05-25T05:30:35.986750Z",
     "iopub.status.busy": "2024-05-25T05:30:35.986089Z",
     "iopub.status.idle": "2024-05-25T05:30:35.990432Z",
     "shell.execute_reply": "2024-05-25T05:30:35.989635Z"
    },
    "papermill": {
     "duration": 0.028233,
     "end_time": "2024-05-25T05:30:35.992922",
     "exception": false,
     "start_time": "2024-05-25T05:30:35.964689",
     "status": "completed"
    },
    "tags": []
   },
   "outputs": [],
   "source": [
    "cat_pipeline = Pipeline([(\"encoder\", OneHotEncoder())])"
   ]
  },
  {
   "cell_type": "code",
   "execution_count": 30,
   "id": "19746eb4",
   "metadata": {
    "execution": {
     "iopub.execute_input": "2024-05-25T05:30:36.033944Z",
     "iopub.status.busy": "2024-05-25T05:30:36.033506Z",
     "iopub.status.idle": "2024-05-25T05:30:36.039997Z",
     "shell.execute_reply": "2024-05-25T05:30:36.039140Z"
    },
    "papermill": {
     "duration": 0.02994,
     "end_time": "2024-05-25T05:30:36.042220",
     "exception": false,
     "start_time": "2024-05-25T05:30:36.012280",
     "status": "completed"
    },
    "tags": []
   },
   "outputs": [
    {
     "data": {
      "text/plain": [
       "['Length',\n",
       " 'Diameter',\n",
       " 'Height',\n",
       " 'Whole weight',\n",
       " 'Whole weight.1',\n",
       " 'Whole weight.2',\n",
       " 'Shell weight']"
      ]
     },
     "execution_count": 30,
     "metadata": {},
     "output_type": "execute_result"
    }
   ],
   "source": [
    "num_attribs = list(train_num)\n",
    "num_attribs"
   ]
  },
  {
   "cell_type": "code",
   "execution_count": 31,
   "id": "7962573e",
   "metadata": {
    "execution": {
     "iopub.execute_input": "2024-05-25T05:30:36.083259Z",
     "iopub.status.busy": "2024-05-25T05:30:36.082856Z",
     "iopub.status.idle": "2024-05-25T05:30:36.089772Z",
     "shell.execute_reply": "2024-05-25T05:30:36.088639Z"
    },
    "papermill": {
     "duration": 0.0302,
     "end_time": "2024-05-25T05:30:36.091989",
     "exception": false,
     "start_time": "2024-05-25T05:30:36.061789",
     "status": "completed"
    },
    "tags": []
   },
   "outputs": [
    {
     "data": {
      "text/plain": [
       "['Sex']"
      ]
     },
     "execution_count": 31,
     "metadata": {},
     "output_type": "execute_result"
    }
   ],
   "source": [
    "cat_attribs = [\"Sex\"]\n",
    "cat_attribs"
   ]
  },
  {
   "cell_type": "code",
   "execution_count": 32,
   "id": "59101b97",
   "metadata": {
    "execution": {
     "iopub.execute_input": "2024-05-25T05:30:36.133934Z",
     "iopub.status.busy": "2024-05-25T05:30:36.133561Z",
     "iopub.status.idle": "2024-05-25T05:30:36.138265Z",
     "shell.execute_reply": "2024-05-25T05:30:36.137133Z"
    },
    "papermill": {
     "duration": 0.029116,
     "end_time": "2024-05-25T05:30:36.140563",
     "exception": false,
     "start_time": "2024-05-25T05:30:36.111447",
     "status": "completed"
    },
    "tags": []
   },
   "outputs": [],
   "source": [
    "full_pipeline = ColumnTransformer([(\"num\", num_pipeline, num_attribs), (\"cat\", cat_pipeline, cat_attribs)])"
   ]
  },
  {
   "cell_type": "code",
   "execution_count": 33,
   "id": "c6965720",
   "metadata": {
    "execution": {
     "iopub.execute_input": "2024-05-25T05:30:36.183030Z",
     "iopub.status.busy": "2024-05-25T05:30:36.182652Z",
     "iopub.status.idle": "2024-05-25T05:30:36.231636Z",
     "shell.execute_reply": "2024-05-25T05:30:36.230432Z"
    },
    "papermill": {
     "duration": 0.072772,
     "end_time": "2024-05-25T05:30:36.234068",
     "exception": false,
     "start_time": "2024-05-25T05:30:36.161296",
     "status": "completed"
    },
    "tags": []
   },
   "outputs": [
    {
     "data": {
      "text/plain": [
       "array([[ 1.08472313,  0.74935358,  0.50423579, ...,  0.        ,\n",
       "         0.        ,  1.        ],\n",
       "       [ 0.53203837,  0.59545832,  0.63521348, ...,  0.        ,\n",
       "         0.        ,  1.        ],\n",
       "       [ 0.36198152,  0.18507096,  0.11130274, ...,  0.        ,\n",
       "         0.        ,  1.        ],\n",
       "       ...,\n",
       "       [ 0.6170668 ,  0.39026464,  0.50423579, ...,  0.        ,\n",
       "         1.        ,  0.        ],\n",
       "       [ 1.21226577,  1.26233779,  1.42107959, ...,  1.        ,\n",
       "         0.        ,  0.        ],\n",
       "       [-0.74338801, -0.63570377, -0.412608  , ...,  1.        ,\n",
       "         0.        ,  0.        ]])"
      ]
     },
     "execution_count": 33,
     "metadata": {},
     "output_type": "execute_result"
    }
   ],
   "source": [
    "test_f= full_pipeline.fit_transform(df_test2)\n",
    "test_f"
   ]
  },
  {
   "cell_type": "code",
   "execution_count": 34,
   "id": "a44400ab",
   "metadata": {
    "execution": {
     "iopub.execute_input": "2024-05-25T05:30:36.275709Z",
     "iopub.status.busy": "2024-05-25T05:30:36.275312Z",
     "iopub.status.idle": "2024-05-25T05:30:36.329895Z",
     "shell.execute_reply": "2024-05-25T05:30:36.328718Z"
    },
    "papermill": {
     "duration": 0.07827,
     "end_time": "2024-05-25T05:30:36.332632",
     "exception": false,
     "start_time": "2024-05-25T05:30:36.254362",
     "status": "completed"
    },
    "tags": []
   },
   "outputs": [
    {
     "data": {
      "text/plain": [
       "array([[ 0.2339191 ,  0.23573908, -0.01169906, ...,  1.        ,\n",
       "         0.        ,  0.        ],\n",
       "       [-0.36548611, -0.28068239, -0.68003236, ...,  0.        ,\n",
       "         1.        ,  0.        ],\n",
       "       [-2.03525774, -1.93323107, -1.214699  , ...,  0.        ,\n",
       "         1.        ,  0.        ],\n",
       "       ...,\n",
       "       [-0.02296885, -0.02247166, -0.27903238, ...,  0.        ,\n",
       "         1.        ,  0.        ],\n",
       "       [ 0.61925101,  0.70051839,  0.65663424, ...,  1.        ,\n",
       "         0.        ,  0.        ],\n",
       "       [-0.49393008, -0.48725097, -0.81369902, ...,  1.        ,\n",
       "         0.        ,  0.        ]])"
      ]
     },
     "execution_count": 34,
     "metadata": {},
     "output_type": "execute_result"
    }
   ],
   "source": [
    "X_train_f = full_pipeline.fit_transform(X_train)\n",
    "X_train_f"
   ]
  },
  {
   "cell_type": "code",
   "execution_count": 35,
   "id": "6ac8d932",
   "metadata": {
    "execution": {
     "iopub.execute_input": "2024-05-25T05:30:36.374595Z",
     "iopub.status.busy": "2024-05-25T05:30:36.374179Z",
     "iopub.status.idle": "2024-05-25T05:30:36.380928Z",
     "shell.execute_reply": "2024-05-25T05:30:36.379788Z"
    },
    "papermill": {
     "duration": 0.030372,
     "end_time": "2024-05-25T05:30:36.383240",
     "exception": false,
     "start_time": "2024-05-25T05:30:36.352868",
     "status": "completed"
    },
    "tags": []
   },
   "outputs": [
    {
     "data": {
      "text/plain": [
       "(72492, 10)"
      ]
     },
     "execution_count": 35,
     "metadata": {},
     "output_type": "execute_result"
    }
   ],
   "source": [
    "X_train_f.shape"
   ]
  },
  {
   "cell_type": "code",
   "execution_count": 36,
   "id": "c6bbce88",
   "metadata": {
    "execution": {
     "iopub.execute_input": "2024-05-25T05:30:36.426917Z",
     "iopub.status.busy": "2024-05-25T05:30:36.426492Z",
     "iopub.status.idle": "2024-05-25T05:30:36.448123Z",
     "shell.execute_reply": "2024-05-25T05:30:36.446245Z"
    },
    "papermill": {
     "duration": 0.047399,
     "end_time": "2024-05-25T05:30:36.451300",
     "exception": false,
     "start_time": "2024-05-25T05:30:36.403901",
     "status": "completed"
    },
    "tags": []
   },
   "outputs": [
    {
     "data": {
      "text/plain": [
       "array([[-0.83644734, -0.79710385, -0.68003236, ...,  0.        ,\n",
       "         1.        ,  0.        ],\n",
       "       [ 0.44799238,  0.75216054, -0.27903238, ...,  1.        ,\n",
       "         0.        ,  0.        ],\n",
       "       [ 0.44799238,  0.49394981,  0.1219676 , ...,  1.        ,\n",
       "         0.        ,  0.        ],\n",
       "       ...,\n",
       "       [-0.06578351,  0.02917049, -0.01169906, ...,  0.        ,\n",
       "         1.        ,  0.        ],\n",
       "       [ 0.57643635,  0.64887625,  0.38930092, ...,  1.        ,\n",
       "         0.        ,  0.        ],\n",
       "       [ 1.17584155,  1.11365556,  0.92396756, ...,  0.        ,\n",
       "         0.        ,  1.        ]])"
      ]
     },
     "execution_count": 36,
     "metadata": {},
     "output_type": "execute_result"
    }
   ],
   "source": [
    "X_test_f = full_pipeline.transform(X_test)\n",
    "X_test_f"
   ]
  },
  {
   "cell_type": "code",
   "execution_count": 37,
   "id": "5cff546a",
   "metadata": {
    "execution": {
     "iopub.execute_input": "2024-05-25T05:30:36.498721Z",
     "iopub.status.busy": "2024-05-25T05:30:36.497767Z",
     "iopub.status.idle": "2024-05-25T05:30:36.505423Z",
     "shell.execute_reply": "2024-05-25T05:30:36.504271Z"
    },
    "papermill": {
     "duration": 0.033659,
     "end_time": "2024-05-25T05:30:36.507834",
     "exception": false,
     "start_time": "2024-05-25T05:30:36.474175",
     "status": "completed"
    },
    "tags": []
   },
   "outputs": [
    {
     "data": {
      "text/plain": [
       "(18123, 10)"
      ]
     },
     "execution_count": 37,
     "metadata": {},
     "output_type": "execute_result"
    }
   ],
   "source": [
    "X_test_f.shape"
   ]
  },
  {
   "cell_type": "markdown",
   "id": "6eb669e0",
   "metadata": {
    "papermill": {
     "duration": 0.020788,
     "end_time": "2024-05-25T05:30:36.548903",
     "exception": false,
     "start_time": "2024-05-25T05:30:36.528115",
     "status": "completed"
    },
    "tags": []
   },
   "source": [
    "Model"
   ]
  },
  {
   "cell_type": "code",
   "execution_count": 38,
   "id": "9afc5b2f",
   "metadata": {
    "execution": {
     "iopub.execute_input": "2024-05-25T05:30:36.592475Z",
     "iopub.status.busy": "2024-05-25T05:30:36.591437Z",
     "iopub.status.idle": "2024-05-25T05:31:33.806094Z",
     "shell.execute_reply": "2024-05-25T05:31:33.804569Z"
    },
    "papermill": {
     "duration": 57.257352,
     "end_time": "2024-05-25T05:31:33.827348",
     "exception": false,
     "start_time": "2024-05-25T05:30:36.569996",
     "status": "completed"
    },
    "tags": []
   },
   "outputs": [
    {
     "name": "stdout",
     "output_type": "stream",
     "text": [
      "CPU times: user 57 s, sys: 54.9 ms, total: 57.1 s\n",
      "Wall time: 57.2 s\n"
     ]
    },
    {
     "data": {
      "text/html": [
       "<style>#sk-container-id-1 {color: black;background-color: white;}#sk-container-id-1 pre{padding: 0;}#sk-container-id-1 div.sk-toggleable {background-color: white;}#sk-container-id-1 label.sk-toggleable__label {cursor: pointer;display: block;width: 100%;margin-bottom: 0;padding: 0.3em;box-sizing: border-box;text-align: center;}#sk-container-id-1 label.sk-toggleable__label-arrow:before {content: \"▸\";float: left;margin-right: 0.25em;color: #696969;}#sk-container-id-1 label.sk-toggleable__label-arrow:hover:before {color: black;}#sk-container-id-1 div.sk-estimator:hover label.sk-toggleable__label-arrow:before {color: black;}#sk-container-id-1 div.sk-toggleable__content {max-height: 0;max-width: 0;overflow: hidden;text-align: left;background-color: #f0f8ff;}#sk-container-id-1 div.sk-toggleable__content pre {margin: 0.2em;color: black;border-radius: 0.25em;background-color: #f0f8ff;}#sk-container-id-1 input.sk-toggleable__control:checked~div.sk-toggleable__content {max-height: 200px;max-width: 100%;overflow: auto;}#sk-container-id-1 input.sk-toggleable__control:checked~label.sk-toggleable__label-arrow:before {content: \"▾\";}#sk-container-id-1 div.sk-estimator input.sk-toggleable__control:checked~label.sk-toggleable__label {background-color: #d4ebff;}#sk-container-id-1 div.sk-label input.sk-toggleable__control:checked~label.sk-toggleable__label {background-color: #d4ebff;}#sk-container-id-1 input.sk-hidden--visually {border: 0;clip: rect(1px 1px 1px 1px);clip: rect(1px, 1px, 1px, 1px);height: 1px;margin: -1px;overflow: hidden;padding: 0;position: absolute;width: 1px;}#sk-container-id-1 div.sk-estimator {font-family: monospace;background-color: #f0f8ff;border: 1px dotted black;border-radius: 0.25em;box-sizing: border-box;margin-bottom: 0.5em;}#sk-container-id-1 div.sk-estimator:hover {background-color: #d4ebff;}#sk-container-id-1 div.sk-parallel-item::after {content: \"\";width: 100%;border-bottom: 1px solid gray;flex-grow: 1;}#sk-container-id-1 div.sk-label:hover label.sk-toggleable__label {background-color: #d4ebff;}#sk-container-id-1 div.sk-serial::before {content: \"\";position: absolute;border-left: 1px solid gray;box-sizing: border-box;top: 0;bottom: 0;left: 50%;z-index: 0;}#sk-container-id-1 div.sk-serial {display: flex;flex-direction: column;align-items: center;background-color: white;padding-right: 0.2em;padding-left: 0.2em;position: relative;}#sk-container-id-1 div.sk-item {position: relative;z-index: 1;}#sk-container-id-1 div.sk-parallel {display: flex;align-items: stretch;justify-content: center;background-color: white;position: relative;}#sk-container-id-1 div.sk-item::before, #sk-container-id-1 div.sk-parallel-item::before {content: \"\";position: absolute;border-left: 1px solid gray;box-sizing: border-box;top: 0;bottom: 0;left: 50%;z-index: -1;}#sk-container-id-1 div.sk-parallel-item {display: flex;flex-direction: column;z-index: 1;position: relative;background-color: white;}#sk-container-id-1 div.sk-parallel-item:first-child::after {align-self: flex-end;width: 50%;}#sk-container-id-1 div.sk-parallel-item:last-child::after {align-self: flex-start;width: 50%;}#sk-container-id-1 div.sk-parallel-item:only-child::after {width: 0;}#sk-container-id-1 div.sk-dashed-wrapped {border: 1px dashed gray;margin: 0 0.4em 0.5em 0.4em;box-sizing: border-box;padding-bottom: 0.4em;background-color: white;}#sk-container-id-1 div.sk-label label {font-family: monospace;font-weight: bold;display: inline-block;line-height: 1.2em;}#sk-container-id-1 div.sk-label-container {text-align: center;}#sk-container-id-1 div.sk-container {/* jupyter's `normalize.less` sets `[hidden] { display: none; }` but bootstrap.min.css set `[hidden] { display: none !important; }` so we also need the `!important` here to be able to override the default hidden behavior on the sphinx rendered scikit-learn.org. See: https://github.com/scikit-learn/scikit-learn/issues/21755 */display: inline-block !important;position: relative;}#sk-container-id-1 div.sk-text-repr-fallback {display: none;}</style><div id=\"sk-container-id-1\" class=\"sk-top-container\"><div class=\"sk-text-repr-fallback\"><pre>RandomForestRegressor(max_depth=10, min_samples_leaf=4, min_samples_split=10,\n",
       "                      n_estimators=300, random_state=42)</pre><b>In a Jupyter environment, please rerun this cell to show the HTML representation or trust the notebook. <br />On GitHub, the HTML representation is unable to render, please try loading this page with nbviewer.org.</b></div><div class=\"sk-container\" hidden><div class=\"sk-item\"><div class=\"sk-estimator sk-toggleable\"><input class=\"sk-toggleable__control sk-hidden--visually\" id=\"sk-estimator-id-1\" type=\"checkbox\" checked><label for=\"sk-estimator-id-1\" class=\"sk-toggleable__label sk-toggleable__label-arrow\">RandomForestRegressor</label><div class=\"sk-toggleable__content\"><pre>RandomForestRegressor(max_depth=10, min_samples_leaf=4, min_samples_split=10,\n",
       "                      n_estimators=300, random_state=42)</pre></div></div></div></div></div>"
      ],
      "text/plain": [
       "RandomForestRegressor(max_depth=10, min_samples_leaf=4, min_samples_split=10,\n",
       "                      n_estimators=300, random_state=42)"
      ]
     },
     "execution_count": 38,
     "metadata": {},
     "output_type": "execute_result"
    }
   ],
   "source": [
    "%%time\n",
    "\n",
    "rndm_f = RandomForestRegressor(max_depth=10, min_samples_leaf=4, min_samples_split=10, n_estimators=300, random_state=42)\n",
    "rndm_f.fit(X_train_f, y_train)"
   ]
  },
  {
   "cell_type": "code",
   "execution_count": 39,
   "id": "8d09b17c",
   "metadata": {
    "execution": {
     "iopub.execute_input": "2024-05-25T05:31:33.871894Z",
     "iopub.status.busy": "2024-05-25T05:31:33.870733Z",
     "iopub.status.idle": "2024-05-25T05:31:34.483264Z",
     "shell.execute_reply": "2024-05-25T05:31:34.482171Z"
    },
    "papermill": {
     "duration": 0.638263,
     "end_time": "2024-05-25T05:31:34.486131",
     "exception": false,
     "start_time": "2024-05-25T05:31:33.847868",
     "status": "completed"
    },
    "tags": []
   },
   "outputs": [
    {
     "data": {
      "text/plain": [
       "array([ 7.661069  ,  9.95914974, 12.02150676, ..., 11.37374486,\n",
       "        9.76414125, 10.33722233])"
      ]
     },
     "execution_count": 39,
     "metadata": {},
     "output_type": "execute_result"
    }
   ],
   "source": [
    "preds_rndmf = rndm_f.predict(X_test_f)\n",
    "preds_rndmf"
   ]
  },
  {
   "cell_type": "code",
   "execution_count": 40,
   "id": "51fc5ce9",
   "metadata": {
    "execution": {
     "iopub.execute_input": "2024-05-25T05:31:34.537444Z",
     "iopub.status.busy": "2024-05-25T05:31:34.536499Z",
     "iopub.status.idle": "2024-05-25T05:31:36.092864Z",
     "shell.execute_reply": "2024-05-25T05:31:36.091590Z"
    },
    "papermill": {
     "duration": 1.583732,
     "end_time": "2024-05-25T05:31:36.095302",
     "exception": false,
     "start_time": "2024-05-25T05:31:34.511570",
     "status": "completed"
    },
    "tags": []
   },
   "outputs": [
    {
     "name": "stdout",
     "output_type": "stream",
     "text": [
      "CPU times: user 5.23 s, sys: 36.8 ms, total: 5.26 s\n",
      "Wall time: 1.54 s\n"
     ]
    },
    {
     "data": {
      "text/html": [
       "<style>#sk-container-id-2 {color: black;background-color: white;}#sk-container-id-2 pre{padding: 0;}#sk-container-id-2 div.sk-toggleable {background-color: white;}#sk-container-id-2 label.sk-toggleable__label {cursor: pointer;display: block;width: 100%;margin-bottom: 0;padding: 0.3em;box-sizing: border-box;text-align: center;}#sk-container-id-2 label.sk-toggleable__label-arrow:before {content: \"▸\";float: left;margin-right: 0.25em;color: #696969;}#sk-container-id-2 label.sk-toggleable__label-arrow:hover:before {color: black;}#sk-container-id-2 div.sk-estimator:hover label.sk-toggleable__label-arrow:before {color: black;}#sk-container-id-2 div.sk-toggleable__content {max-height: 0;max-width: 0;overflow: hidden;text-align: left;background-color: #f0f8ff;}#sk-container-id-2 div.sk-toggleable__content pre {margin: 0.2em;color: black;border-radius: 0.25em;background-color: #f0f8ff;}#sk-container-id-2 input.sk-toggleable__control:checked~div.sk-toggleable__content {max-height: 200px;max-width: 100%;overflow: auto;}#sk-container-id-2 input.sk-toggleable__control:checked~label.sk-toggleable__label-arrow:before {content: \"▾\";}#sk-container-id-2 div.sk-estimator input.sk-toggleable__control:checked~label.sk-toggleable__label {background-color: #d4ebff;}#sk-container-id-2 div.sk-label input.sk-toggleable__control:checked~label.sk-toggleable__label {background-color: #d4ebff;}#sk-container-id-2 input.sk-hidden--visually {border: 0;clip: rect(1px 1px 1px 1px);clip: rect(1px, 1px, 1px, 1px);height: 1px;margin: -1px;overflow: hidden;padding: 0;position: absolute;width: 1px;}#sk-container-id-2 div.sk-estimator {font-family: monospace;background-color: #f0f8ff;border: 1px dotted black;border-radius: 0.25em;box-sizing: border-box;margin-bottom: 0.5em;}#sk-container-id-2 div.sk-estimator:hover {background-color: #d4ebff;}#sk-container-id-2 div.sk-parallel-item::after {content: \"\";width: 100%;border-bottom: 1px solid gray;flex-grow: 1;}#sk-container-id-2 div.sk-label:hover label.sk-toggleable__label {background-color: #d4ebff;}#sk-container-id-2 div.sk-serial::before {content: \"\";position: absolute;border-left: 1px solid gray;box-sizing: border-box;top: 0;bottom: 0;left: 50%;z-index: 0;}#sk-container-id-2 div.sk-serial {display: flex;flex-direction: column;align-items: center;background-color: white;padding-right: 0.2em;padding-left: 0.2em;position: relative;}#sk-container-id-2 div.sk-item {position: relative;z-index: 1;}#sk-container-id-2 div.sk-parallel {display: flex;align-items: stretch;justify-content: center;background-color: white;position: relative;}#sk-container-id-2 div.sk-item::before, #sk-container-id-2 div.sk-parallel-item::before {content: \"\";position: absolute;border-left: 1px solid gray;box-sizing: border-box;top: 0;bottom: 0;left: 50%;z-index: -1;}#sk-container-id-2 div.sk-parallel-item {display: flex;flex-direction: column;z-index: 1;position: relative;background-color: white;}#sk-container-id-2 div.sk-parallel-item:first-child::after {align-self: flex-end;width: 50%;}#sk-container-id-2 div.sk-parallel-item:last-child::after {align-self: flex-start;width: 50%;}#sk-container-id-2 div.sk-parallel-item:only-child::after {width: 0;}#sk-container-id-2 div.sk-dashed-wrapped {border: 1px dashed gray;margin: 0 0.4em 0.5em 0.4em;box-sizing: border-box;padding-bottom: 0.4em;background-color: white;}#sk-container-id-2 div.sk-label label {font-family: monospace;font-weight: bold;display: inline-block;line-height: 1.2em;}#sk-container-id-2 div.sk-label-container {text-align: center;}#sk-container-id-2 div.sk-container {/* jupyter's `normalize.less` sets `[hidden] { display: none; }` but bootstrap.min.css set `[hidden] { display: none !important; }` so we also need the `!important` here to be able to override the default hidden behavior on the sphinx rendered scikit-learn.org. See: https://github.com/scikit-learn/scikit-learn/issues/21755 */display: inline-block !important;position: relative;}#sk-container-id-2 div.sk-text-repr-fallback {display: none;}</style><div id=\"sk-container-id-2\" class=\"sk-top-container\"><div class=\"sk-text-repr-fallback\"><pre>XGBRegressor(base_score=None, booster=None, callbacks=None,\n",
       "             colsample_bylevel=None, colsample_bynode=None,\n",
       "             colsample_bytree=0.7, device=None, early_stopping_rounds=None,\n",
       "             enable_categorical=False, eval_metric=None, feature_types=None,\n",
       "             gamma=None, grow_policy=None, importance_type=None,\n",
       "             interaction_constraints=None, learning_rate=0.1, max_bin=None,\n",
       "             max_cat_threshold=None, max_cat_to_onehot=None,\n",
       "             max_delta_step=None, max_depth=5, max_leaves=None,\n",
       "             min_child_weight=None, missing=nan, monotone_constraints=None,\n",
       "             multi_strategy=None, n_estimators=300, n_jobs=None,\n",
       "             num_parallel_tree=None, random_state=42, ...)</pre><b>In a Jupyter environment, please rerun this cell to show the HTML representation or trust the notebook. <br />On GitHub, the HTML representation is unable to render, please try loading this page with nbviewer.org.</b></div><div class=\"sk-container\" hidden><div class=\"sk-item\"><div class=\"sk-estimator sk-toggleable\"><input class=\"sk-toggleable__control sk-hidden--visually\" id=\"sk-estimator-id-2\" type=\"checkbox\" checked><label for=\"sk-estimator-id-2\" class=\"sk-toggleable__label sk-toggleable__label-arrow\">XGBRegressor</label><div class=\"sk-toggleable__content\"><pre>XGBRegressor(base_score=None, booster=None, callbacks=None,\n",
       "             colsample_bylevel=None, colsample_bynode=None,\n",
       "             colsample_bytree=0.7, device=None, early_stopping_rounds=None,\n",
       "             enable_categorical=False, eval_metric=None, feature_types=None,\n",
       "             gamma=None, grow_policy=None, importance_type=None,\n",
       "             interaction_constraints=None, learning_rate=0.1, max_bin=None,\n",
       "             max_cat_threshold=None, max_cat_to_onehot=None,\n",
       "             max_delta_step=None, max_depth=5, max_leaves=None,\n",
       "             min_child_weight=None, missing=nan, monotone_constraints=None,\n",
       "             multi_strategy=None, n_estimators=300, n_jobs=None,\n",
       "             num_parallel_tree=None, random_state=42, ...)</pre></div></div></div></div></div>"
      ],
      "text/plain": [
       "XGBRegressor(base_score=None, booster=None, callbacks=None,\n",
       "             colsample_bylevel=None, colsample_bynode=None,\n",
       "             colsample_bytree=0.7, device=None, early_stopping_rounds=None,\n",
       "             enable_categorical=False, eval_metric=None, feature_types=None,\n",
       "             gamma=None, grow_policy=None, importance_type=None,\n",
       "             interaction_constraints=None, learning_rate=0.1, max_bin=None,\n",
       "             max_cat_threshold=None, max_cat_to_onehot=None,\n",
       "             max_delta_step=None, max_depth=5, max_leaves=None,\n",
       "             min_child_weight=None, missing=nan, monotone_constraints=None,\n",
       "             multi_strategy=None, n_estimators=300, n_jobs=None,\n",
       "             num_parallel_tree=None, random_state=42, ...)"
      ]
     },
     "execution_count": 40,
     "metadata": {},
     "output_type": "execute_result"
    }
   ],
   "source": [
    "%%time\n",
    "xgb = XGBRegressor(colsample_bytree=0.7, learning_rate=0.1, max_depth= 5, n_estimators= 300, subsample= 1.0, random_state=42)\n",
    "xgb.fit(X_train_f, y_train)"
   ]
  },
  {
   "cell_type": "code",
   "execution_count": 41,
   "id": "26a5872e",
   "metadata": {
    "execution": {
     "iopub.execute_input": "2024-05-25T05:31:36.140873Z",
     "iopub.status.busy": "2024-05-25T05:31:36.139827Z",
     "iopub.status.idle": "2024-05-25T05:31:36.192178Z",
     "shell.execute_reply": "2024-05-25T05:31:36.191099Z"
    },
    "papermill": {
     "duration": 0.077536,
     "end_time": "2024-05-25T05:31:36.194285",
     "exception": false,
     "start_time": "2024-05-25T05:31:36.116749",
     "status": "completed"
    },
    "tags": []
   },
   "outputs": [
    {
     "data": {
      "text/plain": [
       "array([ 7.7435937, 10.015739 , 11.509293 , ..., 11.075109 ,  9.197584 ,\n",
       "        9.7142   ], dtype=float32)"
      ]
     },
     "execution_count": 41,
     "metadata": {},
     "output_type": "execute_result"
    }
   ],
   "source": [
    "preds_xgb = xgb.predict(X_test_f)\n",
    "preds_xgb"
   ]
  },
  {
   "cell_type": "code",
   "execution_count": 42,
   "id": "7edb62f1",
   "metadata": {
    "execution": {
     "iopub.execute_input": "2024-05-25T05:31:36.240885Z",
     "iopub.status.busy": "2024-05-25T05:31:36.240045Z",
     "iopub.status.idle": "2024-05-25T05:31:36.247753Z",
     "shell.execute_reply": "2024-05-25T05:31:36.246691Z"
    },
    "papermill": {
     "duration": 0.034416,
     "end_time": "2024-05-25T05:31:36.249858",
     "exception": false,
     "start_time": "2024-05-25T05:31:36.215442",
     "status": "completed"
    },
    "tags": []
   },
   "outputs": [
    {
     "data": {
      "text/plain": [
       "array([ 7.70233135,  9.98744459, 11.76539968, ..., 11.2244267 ,\n",
       "        9.4808627 , 10.02571118])"
      ]
     },
     "execution_count": 42,
     "metadata": {},
     "output_type": "execute_result"
    }
   ],
   "source": [
    "avg_preds = (preds_rndmf + preds_xgb)/2\n",
    "avg_preds"
   ]
  },
  {
   "cell_type": "code",
   "execution_count": 43,
   "id": "43f47b89",
   "metadata": {
    "execution": {
     "iopub.execute_input": "2024-05-25T05:31:36.295755Z",
     "iopub.status.busy": "2024-05-25T05:31:36.294216Z",
     "iopub.status.idle": "2024-05-25T05:31:36.301810Z",
     "shell.execute_reply": "2024-05-25T05:31:36.300754Z"
    },
    "papermill": {
     "duration": 0.032675,
     "end_time": "2024-05-25T05:31:36.303938",
     "exception": false,
     "start_time": "2024-05-25T05:31:36.271263",
     "status": "completed"
    },
    "tags": []
   },
   "outputs": [
    {
     "data": {
      "text/plain": [
       "(18123,)"
      ]
     },
     "execution_count": 43,
     "metadata": {},
     "output_type": "execute_result"
    }
   ],
   "source": [
    "avg_preds.shape"
   ]
  },
  {
   "cell_type": "markdown",
   "id": "6b455db2",
   "metadata": {
    "papermill": {
     "duration": 0.0221,
     "end_time": "2024-05-25T05:31:36.347494",
     "exception": false,
     "start_time": "2024-05-25T05:31:36.325394",
     "status": "completed"
    },
    "tags": []
   },
   "source": [
    "Metric"
   ]
  },
  {
   "cell_type": "code",
   "execution_count": 44,
   "id": "6d3087b4",
   "metadata": {
    "execution": {
     "iopub.execute_input": "2024-05-25T05:31:36.394197Z",
     "iopub.status.busy": "2024-05-25T05:31:36.393187Z",
     "iopub.status.idle": "2024-05-25T05:31:36.400186Z",
     "shell.execute_reply": "2024-05-25T05:31:36.399025Z"
    },
    "papermill": {
     "duration": 0.032249,
     "end_time": "2024-05-25T05:31:36.402164",
     "exception": false,
     "start_time": "2024-05-25T05:31:36.369915",
     "status": "completed"
    },
    "tags": []
   },
   "outputs": [
    {
     "data": {
      "text/plain": [
       "'full_test = full_pipeline.transform(df_test2)\\nfull_test\\n'"
      ]
     },
     "execution_count": 44,
     "metadata": {},
     "output_type": "execute_result"
    }
   ],
   "source": [
    "\"\"\"full_test = full_pipeline.transform(df_test2)\n",
    "full_test\n",
    "\"\"\""
   ]
  },
  {
   "cell_type": "code",
   "execution_count": 45,
   "id": "55becefc",
   "metadata": {
    "execution": {
     "iopub.execute_input": "2024-05-25T05:31:36.448942Z",
     "iopub.status.busy": "2024-05-25T05:31:36.448548Z",
     "iopub.status.idle": "2024-05-25T05:31:36.453909Z",
     "shell.execute_reply": "2024-05-25T05:31:36.452633Z"
    },
    "papermill": {
     "duration": 0.031297,
     "end_time": "2024-05-25T05:31:36.456241",
     "exception": false,
     "start_time": "2024-05-25T05:31:36.424944",
     "status": "completed"
    },
    "tags": []
   },
   "outputs": [],
   "source": [
    "def rmsle(y_test, preds):\n",
    "    mtrc = np.sqrt(mean_squared_log_error(y_test, preds))\n",
    "    return mtrc"
   ]
  },
  {
   "cell_type": "code",
   "execution_count": 46,
   "id": "6c3e3a2c",
   "metadata": {
    "execution": {
     "iopub.execute_input": "2024-05-25T05:31:36.504180Z",
     "iopub.status.busy": "2024-05-25T05:31:36.503796Z",
     "iopub.status.idle": "2024-05-25T05:31:36.510643Z",
     "shell.execute_reply": "2024-05-25T05:31:36.509565Z"
    },
    "papermill": {
     "duration": 0.03337,
     "end_time": "2024-05-25T05:31:36.513194",
     "exception": false,
     "start_time": "2024-05-25T05:31:36.479824",
     "status": "completed"
    },
    "tags": []
   },
   "outputs": [
    {
     "data": {
      "text/plain": [
       "(18123,)"
      ]
     },
     "execution_count": 46,
     "metadata": {},
     "output_type": "execute_result"
    }
   ],
   "source": [
    "y_test.shape"
   ]
  },
  {
   "cell_type": "code",
   "execution_count": 47,
   "id": "b81e8810",
   "metadata": {
    "execution": {
     "iopub.execute_input": "2024-05-25T05:31:36.561674Z",
     "iopub.status.busy": "2024-05-25T05:31:36.561262Z",
     "iopub.status.idle": "2024-05-25T05:31:36.567626Z",
     "shell.execute_reply": "2024-05-25T05:31:36.566426Z"
    },
    "papermill": {
     "duration": 0.034183,
     "end_time": "2024-05-25T05:31:36.569614",
     "exception": false,
     "start_time": "2024-05-25T05:31:36.535431",
     "status": "completed"
    },
    "tags": []
   },
   "outputs": [
    {
     "data": {
      "text/plain": [
       "(18123,)"
      ]
     },
     "execution_count": 47,
     "metadata": {},
     "output_type": "execute_result"
    }
   ],
   "source": [
    "avg_preds.shape"
   ]
  },
  {
   "cell_type": "code",
   "execution_count": 48,
   "id": "b8eb8d16",
   "metadata": {
    "execution": {
     "iopub.execute_input": "2024-05-25T05:31:36.616425Z",
     "iopub.status.busy": "2024-05-25T05:31:36.616040Z",
     "iopub.status.idle": "2024-05-25T05:31:36.623853Z",
     "shell.execute_reply": "2024-05-25T05:31:36.622332Z"
    },
    "papermill": {
     "duration": 0.035266,
     "end_time": "2024-05-25T05:31:36.626607",
     "exception": false,
     "start_time": "2024-05-25T05:31:36.591341",
     "status": "completed"
    },
    "tags": []
   },
   "outputs": [
    {
     "name": "stdout",
     "output_type": "stream",
     "text": [
      "Ensemble RMSE 0.13188253895675467\n"
     ]
    }
   ],
   "source": [
    "ensemble_error = rmsle(y_test, avg_preds)\n",
    "print(\"Ensemble RMSE\", ensemble_error)"
   ]
  },
  {
   "cell_type": "markdown",
   "id": "c9a30f85",
   "metadata": {
    "papermill": {
     "duration": 0.022739,
     "end_time": "2024-05-25T05:31:36.672198",
     "exception": false,
     "start_time": "2024-05-25T05:31:36.649459",
     "status": "completed"
    },
    "tags": []
   },
   "source": [
    "Submission"
   ]
  },
  {
   "cell_type": "code",
   "execution_count": 49,
   "id": "08f54619",
   "metadata": {
    "execution": {
     "iopub.execute_input": "2024-05-25T05:31:36.717175Z",
     "iopub.status.busy": "2024-05-25T05:31:36.716800Z",
     "iopub.status.idle": "2024-05-25T05:31:36.726481Z",
     "shell.execute_reply": "2024-05-25T05:31:36.725396Z"
    },
    "papermill": {
     "duration": 0.034983,
     "end_time": "2024-05-25T05:31:36.728838",
     "exception": false,
     "start_time": "2024-05-25T05:31:36.693855",
     "status": "completed"
    },
    "tags": []
   },
   "outputs": [
    {
     "data": {
      "text/html": [
       "<div>\n",
       "<style scoped>\n",
       "    .dataframe tbody tr th:only-of-type {\n",
       "        vertical-align: middle;\n",
       "    }\n",
       "\n",
       "    .dataframe tbody tr th {\n",
       "        vertical-align: top;\n",
       "    }\n",
       "\n",
       "    .dataframe thead th {\n",
       "        text-align: right;\n",
       "    }\n",
       "</style>\n",
       "<table border=\"1\" class=\"dataframe\">\n",
       "  <thead>\n",
       "    <tr style=\"text-align: right;\">\n",
       "      <th></th>\n",
       "      <th>id</th>\n",
       "      <th>Rings</th>\n",
       "    </tr>\n",
       "  </thead>\n",
       "  <tbody>\n",
       "    <tr>\n",
       "      <th>0</th>\n",
       "      <td>90615</td>\n",
       "      <td>10</td>\n",
       "    </tr>\n",
       "    <tr>\n",
       "      <th>1</th>\n",
       "      <td>90616</td>\n",
       "      <td>10</td>\n",
       "    </tr>\n",
       "    <tr>\n",
       "      <th>2</th>\n",
       "      <td>90617</td>\n",
       "      <td>10</td>\n",
       "    </tr>\n",
       "    <tr>\n",
       "      <th>3</th>\n",
       "      <td>90618</td>\n",
       "      <td>10</td>\n",
       "    </tr>\n",
       "    <tr>\n",
       "      <th>4</th>\n",
       "      <td>90619</td>\n",
       "      <td>10</td>\n",
       "    </tr>\n",
       "  </tbody>\n",
       "</table>\n",
       "</div>"
      ],
      "text/plain": [
       "      id  Rings\n",
       "0  90615     10\n",
       "1  90616     10\n",
       "2  90617     10\n",
       "3  90618     10\n",
       "4  90619     10"
      ]
     },
     "execution_count": 49,
     "metadata": {},
     "output_type": "execute_result"
    }
   ],
   "source": [
    "sub.head()"
   ]
  },
  {
   "cell_type": "code",
   "execution_count": 50,
   "id": "8b8a9bfb",
   "metadata": {
    "execution": {
     "iopub.execute_input": "2024-05-25T05:31:36.775875Z",
     "iopub.status.busy": "2024-05-25T05:31:36.775484Z",
     "iopub.status.idle": "2024-05-25T05:31:38.621670Z",
     "shell.execute_reply": "2024-05-25T05:31:38.620369Z"
    },
    "papermill": {
     "duration": 1.872765,
     "end_time": "2024-05-25T05:31:38.624142",
     "exception": false,
     "start_time": "2024-05-25T05:31:36.751377",
     "status": "completed"
    },
    "tags": []
   },
   "outputs": [
    {
     "data": {
      "text/plain": [
       "array([ 9.72304879,  9.72822572, 10.04571809, ..., 11.63715437,\n",
       "       12.84746357,  8.90205788])"
      ]
     },
     "execution_count": 50,
     "metadata": {},
     "output_type": "execute_result"
    }
   ],
   "source": [
    "pred_f1 = rndm_f.predict(test_f)\n",
    "pred_f1"
   ]
  },
  {
   "cell_type": "code",
   "execution_count": 51,
   "id": "7740a3bd",
   "metadata": {
    "execution": {
     "iopub.execute_input": "2024-05-25T05:31:38.670723Z",
     "iopub.status.busy": "2024-05-25T05:31:38.670344Z",
     "iopub.status.idle": "2024-05-25T05:31:38.815626Z",
     "shell.execute_reply": "2024-05-25T05:31:38.814647Z"
    },
    "papermill": {
     "duration": 0.172336,
     "end_time": "2024-05-25T05:31:38.818396",
     "exception": false,
     "start_time": "2024-05-25T05:31:38.646060",
     "status": "completed"
    },
    "tags": []
   },
   "outputs": [
    {
     "data": {
      "text/plain": [
       "array([ 9.89867 ,  9.634176,  9.856875, ..., 11.571524, 12.45307 ,\n",
       "        8.695075], dtype=float32)"
      ]
     },
     "execution_count": 51,
     "metadata": {},
     "output_type": "execute_result"
    }
   ],
   "source": [
    "pred_f2 = xgb.predict(test_f)\n",
    "pred_f2"
   ]
  },
  {
   "cell_type": "code",
   "execution_count": 52,
   "id": "c7e97856",
   "metadata": {
    "execution": {
     "iopub.execute_input": "2024-05-25T05:31:38.872499Z",
     "iopub.status.busy": "2024-05-25T05:31:38.872104Z",
     "iopub.status.idle": "2024-05-25T05:31:38.881298Z",
     "shell.execute_reply": "2024-05-25T05:31:38.880268Z"
    },
    "papermill": {
     "duration": 0.038531,
     "end_time": "2024-05-25T05:31:38.883400",
     "exception": false,
     "start_time": "2024-05-25T05:31:38.844869",
     "status": "completed"
    },
    "tags": []
   },
   "outputs": [
    {
     "data": {
      "text/plain": [
       "array([ 9.8108595 ,  9.68120099,  9.95129675, ..., 11.60433902,\n",
       "       12.65026663,  8.79856646])"
      ]
     },
     "execution_count": 52,
     "metadata": {},
     "output_type": "execute_result"
    }
   ],
   "source": [
    "sub_pred_avg = (pred_f1 + pred_f2)/2\n",
    "sub_pred_avg"
   ]
  },
  {
   "cell_type": "code",
   "execution_count": 53,
   "id": "867f7f90",
   "metadata": {
    "execution": {
     "iopub.execute_input": "2024-05-25T05:31:38.930976Z",
     "iopub.status.busy": "2024-05-25T05:31:38.930619Z",
     "iopub.status.idle": "2024-05-25T05:31:38.943192Z",
     "shell.execute_reply": "2024-05-25T05:31:38.942121Z"
    },
    "papermill": {
     "duration": 0.038881,
     "end_time": "2024-05-25T05:31:38.945276",
     "exception": false,
     "start_time": "2024-05-25T05:31:38.906395",
     "status": "completed"
    },
    "tags": []
   },
   "outputs": [
    {
     "data": {
      "text/html": [
       "<div>\n",
       "<style scoped>\n",
       "    .dataframe tbody tr th:only-of-type {\n",
       "        vertical-align: middle;\n",
       "    }\n",
       "\n",
       "    .dataframe tbody tr th {\n",
       "        vertical-align: top;\n",
       "    }\n",
       "\n",
       "    .dataframe thead th {\n",
       "        text-align: right;\n",
       "    }\n",
       "</style>\n",
       "<table border=\"1\" class=\"dataframe\">\n",
       "  <thead>\n",
       "    <tr style=\"text-align: right;\">\n",
       "      <th></th>\n",
       "      <th>Rings</th>\n",
       "      <th>id</th>\n",
       "    </tr>\n",
       "  </thead>\n",
       "  <tbody>\n",
       "    <tr>\n",
       "      <th>0</th>\n",
       "      <td>9.810859</td>\n",
       "      <td>90615</td>\n",
       "    </tr>\n",
       "    <tr>\n",
       "      <th>1</th>\n",
       "      <td>9.681201</td>\n",
       "      <td>90616</td>\n",
       "    </tr>\n",
       "    <tr>\n",
       "      <th>2</th>\n",
       "      <td>9.951297</td>\n",
       "      <td>90617</td>\n",
       "    </tr>\n",
       "    <tr>\n",
       "      <th>3</th>\n",
       "      <td>10.391243</td>\n",
       "      <td>90618</td>\n",
       "    </tr>\n",
       "    <tr>\n",
       "      <th>4</th>\n",
       "      <td>7.587854</td>\n",
       "      <td>90619</td>\n",
       "    </tr>\n",
       "  </tbody>\n",
       "</table>\n",
       "</div>"
      ],
      "text/plain": [
       "       Rings     id\n",
       "0   9.810859  90615\n",
       "1   9.681201  90616\n",
       "2   9.951297  90617\n",
       "3  10.391243  90618\n",
       "4   7.587854  90619"
      ]
     },
     "execution_count": 53,
     "metadata": {},
     "output_type": "execute_result"
    }
   ],
   "source": [
    "submission = pd.DataFrame(sub_pred_avg, columns = [\"Rings\"])\n",
    "submission[\"id\"] = sub[\"id\"]\n",
    "submission.head()"
   ]
  },
  {
   "cell_type": "code",
   "execution_count": 54,
   "id": "4dca51b1",
   "metadata": {
    "execution": {
     "iopub.execute_input": "2024-05-25T05:31:38.991893Z",
     "iopub.status.busy": "2024-05-25T05:31:38.991146Z",
     "iopub.status.idle": "2024-05-25T05:31:39.133972Z",
     "shell.execute_reply": "2024-05-25T05:31:39.132844Z"
    },
    "papermill": {
     "duration": 0.169318,
     "end_time": "2024-05-25T05:31:39.136908",
     "exception": false,
     "start_time": "2024-05-25T05:31:38.967590",
     "status": "completed"
    },
    "tags": []
   },
   "outputs": [],
   "source": [
    "submission.to_csv(\"submission.csv\", index = False)"
   ]
  }
 ],
 "metadata": {
  "kaggle": {
   "accelerator": "none",
   "dataSources": [
    {
     "databundleVersionId": 8096274,
     "sourceId": 72489,
     "sourceType": "competition"
    }
   ],
   "dockerImageVersionId": 30698,
   "isGpuEnabled": false,
   "isInternetEnabled": true,
   "language": "python",
   "sourceType": "notebook"
  },
  "kernelspec": {
   "display_name": "Python 3",
   "language": "python",
   "name": "python3"
  },
  "language_info": {
   "codemirror_mode": {
    "name": "ipython",
    "version": 3
   },
   "file_extension": ".py",
   "mimetype": "text/x-python",
   "name": "python",
   "nbconvert_exporter": "python",
   "pygments_lexer": "ipython3",
   "version": "3.10.13"
  },
  "papermill": {
   "default_parameters": {},
   "duration": 75.115554,
   "end_time": "2024-05-25T05:31:39.883362",
   "environment_variables": {},
   "exception": null,
   "input_path": "__notebook__.ipynb",
   "output_path": "__notebook__.ipynb",
   "parameters": {},
   "start_time": "2024-05-25T05:30:24.767808",
   "version": "2.5.0"
  }
 },
 "nbformat": 4,
 "nbformat_minor": 5
}
